{
 "cells": [
  {
   "attachments": {},
   "cell_type": "markdown",
   "metadata": {},
   "source": [
    "## Lab 5 - Using link functions to create generalized linear models"
   ]
  },
  {
   "cell_type": "code",
   "execution_count": 1,
   "metadata": {},
   "outputs": [
    {
     "name": "stderr",
     "output_type": "stream",
     "text": [
      "/usr/local/lib/python3.9/site-packages/tqdm/auto.py:22: TqdmWarning: IProgress not found. Please update jupyter and ipywidgets. See https://ipywidgets.readthedocs.io/en/stable/user_install.html\n",
      "  from .autonotebook import tqdm as notebook_tqdm\n"
     ]
    }
   ],
   "source": [
    "import numpy as np\n",
    "import pandas as pd\n",
    "import matplotlib.pyplot as plt\n",
    "from cmdstanpy import CmdStanModel"
   ]
  },
  {
   "cell_type": "code",
   "execution_count": 2,
   "metadata": {},
   "outputs": [
    {
     "data": {
      "text/html": [
       "<div>\n",
       "<style scoped>\n",
       "    .dataframe tbody tr th:only-of-type {\n",
       "        vertical-align: middle;\n",
       "    }\n",
       "\n",
       "    .dataframe tbody tr th {\n",
       "        vertical-align: top;\n",
       "    }\n",
       "\n",
       "    .dataframe thead th {\n",
       "        text-align: right;\n",
       "    }\n",
       "</style>\n",
       "<table border=\"1\" class=\"dataframe\">\n",
       "  <thead>\n",
       "    <tr style=\"text-align: right;\">\n",
       "      <th></th>\n",
       "      <th>Year</th>\n",
       "      <th>Fatal accidents</th>\n",
       "      <th>Passenger deaths</th>\n",
       "      <th>Miles flown [100 mln miles]</th>\n",
       "    </tr>\n",
       "  </thead>\n",
       "  <tbody>\n",
       "    <tr>\n",
       "      <th>0</th>\n",
       "      <td>1976</td>\n",
       "      <td>24</td>\n",
       "      <td>734</td>\n",
       "      <td>3863.0</td>\n",
       "    </tr>\n",
       "    <tr>\n",
       "      <th>1</th>\n",
       "      <td>1977</td>\n",
       "      <td>25</td>\n",
       "      <td>516</td>\n",
       "      <td>4300.0</td>\n",
       "    </tr>\n",
       "    <tr>\n",
       "      <th>2</th>\n",
       "      <td>1978</td>\n",
       "      <td>31</td>\n",
       "      <td>754</td>\n",
       "      <td>5027.0</td>\n",
       "    </tr>\n",
       "    <tr>\n",
       "      <th>3</th>\n",
       "      <td>1979</td>\n",
       "      <td>31</td>\n",
       "      <td>877</td>\n",
       "      <td>5481.0</td>\n",
       "    </tr>\n",
       "    <tr>\n",
       "      <th>4</th>\n",
       "      <td>1980</td>\n",
       "      <td>22</td>\n",
       "      <td>814</td>\n",
       "      <td>5814.0</td>\n",
       "    </tr>\n",
       "    <tr>\n",
       "      <th>5</th>\n",
       "      <td>1981</td>\n",
       "      <td>21</td>\n",
       "      <td>362</td>\n",
       "      <td>6033.0</td>\n",
       "    </tr>\n",
       "    <tr>\n",
       "      <th>6</th>\n",
       "      <td>1982</td>\n",
       "      <td>26</td>\n",
       "      <td>764</td>\n",
       "      <td>5877.0</td>\n",
       "    </tr>\n",
       "    <tr>\n",
       "      <th>7</th>\n",
       "      <td>1983</td>\n",
       "      <td>20</td>\n",
       "      <td>809</td>\n",
       "      <td>6223.0</td>\n",
       "    </tr>\n",
       "    <tr>\n",
       "      <th>8</th>\n",
       "      <td>1984</td>\n",
       "      <td>16</td>\n",
       "      <td>223</td>\n",
       "      <td>7433.0</td>\n",
       "    </tr>\n",
       "    <tr>\n",
       "      <th>9</th>\n",
       "      <td>1985</td>\n",
       "      <td>22</td>\n",
       "      <td>1066</td>\n",
       "      <td>7107.0</td>\n",
       "    </tr>\n",
       "  </tbody>\n",
       "</table>\n",
       "</div>"
      ],
      "text/plain": [
       "   Year  Fatal accidents  Passenger deaths  Miles flown [100 mln miles]\n",
       "0  1976               24               734                       3863.0\n",
       "1  1977               25               516                       4300.0\n",
       "2  1978               31               754                       5027.0\n",
       "3  1979               31               877                       5481.0\n",
       "4  1980               22               814                       5814.0\n",
       "5  1981               21               362                       6033.0\n",
       "6  1982               26               764                       5877.0\n",
       "7  1983               20               809                       6223.0\n",
       "8  1984               16               223                       7433.0\n",
       "9  1985               22              1066                       7107.0"
      ]
     },
     "execution_count": 2,
     "metadata": {},
     "output_type": "execute_result"
    }
   ],
   "source": [
    "df = pd.read_csv('airline_data.csv')\n",
    "df"
   ]
  },
  {
   "cell_type": "code",
   "execution_count": 3,
   "metadata": {},
   "outputs": [
    {
     "data": {
      "text/html": [
       "<div>\n",
       "<style scoped>\n",
       "    .dataframe tbody tr th:only-of-type {\n",
       "        vertical-align: middle;\n",
       "    }\n",
       "\n",
       "    .dataframe tbody tr th {\n",
       "        vertical-align: top;\n",
       "    }\n",
       "\n",
       "    .dataframe thead th {\n",
       "        text-align: right;\n",
       "    }\n",
       "</style>\n",
       "<table border=\"1\" class=\"dataframe\">\n",
       "  <thead>\n",
       "    <tr style=\"text-align: right;\">\n",
       "      <th></th>\n",
       "      <th>Year</th>\n",
       "      <th>Fatal accidents</th>\n",
       "      <th>Passenger deaths</th>\n",
       "      <th>Miles flown [100 mln miles]</th>\n",
       "    </tr>\n",
       "  </thead>\n",
       "  <tbody>\n",
       "    <tr>\n",
       "      <th>count</th>\n",
       "      <td>10.00000</td>\n",
       "      <td>10.000000</td>\n",
       "      <td>10.000000</td>\n",
       "      <td>10.000000</td>\n",
       "    </tr>\n",
       "    <tr>\n",
       "      <th>mean</th>\n",
       "      <td>1980.50000</td>\n",
       "      <td>23.800000</td>\n",
       "      <td>691.900000</td>\n",
       "      <td>5715.800000</td>\n",
       "    </tr>\n",
       "    <tr>\n",
       "      <th>std</th>\n",
       "      <td>3.02765</td>\n",
       "      <td>4.709329</td>\n",
       "      <td>252.389228</td>\n",
       "      <td>1117.767795</td>\n",
       "    </tr>\n",
       "    <tr>\n",
       "      <th>min</th>\n",
       "      <td>1976.00000</td>\n",
       "      <td>16.000000</td>\n",
       "      <td>223.000000</td>\n",
       "      <td>3863.000000</td>\n",
       "    </tr>\n",
       "    <tr>\n",
       "      <th>25%</th>\n",
       "      <td>1978.25000</td>\n",
       "      <td>21.250000</td>\n",
       "      <td>570.500000</td>\n",
       "      <td>5140.500000</td>\n",
       "    </tr>\n",
       "    <tr>\n",
       "      <th>50%</th>\n",
       "      <td>1980.50000</td>\n",
       "      <td>23.000000</td>\n",
       "      <td>759.000000</td>\n",
       "      <td>5845.500000</td>\n",
       "    </tr>\n",
       "    <tr>\n",
       "      <th>75%</th>\n",
       "      <td>1982.75000</td>\n",
       "      <td>25.750000</td>\n",
       "      <td>812.750000</td>\n",
       "      <td>6175.500000</td>\n",
       "    </tr>\n",
       "    <tr>\n",
       "      <th>max</th>\n",
       "      <td>1985.00000</td>\n",
       "      <td>31.000000</td>\n",
       "      <td>1066.000000</td>\n",
       "      <td>7433.000000</td>\n",
       "    </tr>\n",
       "  </tbody>\n",
       "</table>\n",
       "</div>"
      ],
      "text/plain": [
       "             Year  Fatal accidents  Passenger deaths  \\\n",
       "count    10.00000        10.000000         10.000000   \n",
       "mean   1980.50000        23.800000        691.900000   \n",
       "std       3.02765         4.709329        252.389228   \n",
       "min    1976.00000        16.000000        223.000000   \n",
       "25%    1978.25000        21.250000        570.500000   \n",
       "50%    1980.50000        23.000000        759.000000   \n",
       "75%    1982.75000        25.750000        812.750000   \n",
       "max    1985.00000        31.000000       1066.000000   \n",
       "\n",
       "       Miles flown [100 mln miles]  \n",
       "count                    10.000000  \n",
       "mean                   5715.800000  \n",
       "std                    1117.767795  \n",
       "min                    3863.000000  \n",
       "25%                    5140.500000  \n",
       "50%                    5845.500000  \n",
       "75%                    6175.500000  \n",
       "max                    7433.000000  "
      ]
     },
     "execution_count": 3,
     "metadata": {},
     "output_type": "execute_result"
    }
   ],
   "source": [
    "df.describe()"
   ]
  },
  {
   "cell_type": "code",
   "execution_count": 4,
   "metadata": {},
   "outputs": [
    {
     "data": {
      "text/html": [
       "<div>\n",
       "<style scoped>\n",
       "    .dataframe tbody tr th:only-of-type {\n",
       "        vertical-align: middle;\n",
       "    }\n",
       "\n",
       "    .dataframe tbody tr th {\n",
       "        vertical-align: top;\n",
       "    }\n",
       "\n",
       "    .dataframe thead th {\n",
       "        text-align: right;\n",
       "    }\n",
       "</style>\n",
       "<table border=\"1\" class=\"dataframe\">\n",
       "  <thead>\n",
       "    <tr style=\"text-align: right;\">\n",
       "      <th></th>\n",
       "      <th>Year</th>\n",
       "      <th>Fatal accidents</th>\n",
       "      <th>Passenger deaths</th>\n",
       "      <th>Miles flown [100 mln miles]</th>\n",
       "    </tr>\n",
       "  </thead>\n",
       "  <tbody>\n",
       "    <tr>\n",
       "      <th>0</th>\n",
       "      <td>1976</td>\n",
       "      <td>24</td>\n",
       "      <td>734</td>\n",
       "      <td>3.863</td>\n",
       "    </tr>\n",
       "    <tr>\n",
       "      <th>1</th>\n",
       "      <td>1977</td>\n",
       "      <td>25</td>\n",
       "      <td>516</td>\n",
       "      <td>4.300</td>\n",
       "    </tr>\n",
       "    <tr>\n",
       "      <th>2</th>\n",
       "      <td>1978</td>\n",
       "      <td>31</td>\n",
       "      <td>754</td>\n",
       "      <td>5.027</td>\n",
       "    </tr>\n",
       "    <tr>\n",
       "      <th>3</th>\n",
       "      <td>1979</td>\n",
       "      <td>31</td>\n",
       "      <td>877</td>\n",
       "      <td>5.481</td>\n",
       "    </tr>\n",
       "    <tr>\n",
       "      <th>4</th>\n",
       "      <td>1980</td>\n",
       "      <td>22</td>\n",
       "      <td>814</td>\n",
       "      <td>5.814</td>\n",
       "    </tr>\n",
       "    <tr>\n",
       "      <th>5</th>\n",
       "      <td>1981</td>\n",
       "      <td>21</td>\n",
       "      <td>362</td>\n",
       "      <td>6.033</td>\n",
       "    </tr>\n",
       "    <tr>\n",
       "      <th>6</th>\n",
       "      <td>1982</td>\n",
       "      <td>26</td>\n",
       "      <td>764</td>\n",
       "      <td>5.877</td>\n",
       "    </tr>\n",
       "    <tr>\n",
       "      <th>7</th>\n",
       "      <td>1983</td>\n",
       "      <td>20</td>\n",
       "      <td>809</td>\n",
       "      <td>6.223</td>\n",
       "    </tr>\n",
       "    <tr>\n",
       "      <th>8</th>\n",
       "      <td>1984</td>\n",
       "      <td>16</td>\n",
       "      <td>223</td>\n",
       "      <td>7.433</td>\n",
       "    </tr>\n",
       "    <tr>\n",
       "      <th>9</th>\n",
       "      <td>1985</td>\n",
       "      <td>22</td>\n",
       "      <td>1066</td>\n",
       "      <td>7.107</td>\n",
       "    </tr>\n",
       "  </tbody>\n",
       "</table>\n",
       "</div>"
      ],
      "text/plain": [
       "   Year  Fatal accidents  Passenger deaths  Miles flown [100 mln miles]\n",
       "0  1976               24               734                        3.863\n",
       "1  1977               25               516                        4.300\n",
       "2  1978               31               754                        5.027\n",
       "3  1979               31               877                        5.481\n",
       "4  1980               22               814                        5.814\n",
       "5  1981               21               362                        6.033\n",
       "6  1982               26               764                        5.877\n",
       "7  1983               20               809                        6.223\n",
       "8  1984               16               223                        7.433\n",
       "9  1985               22              1066                        7.107"
      ]
     },
     "execution_count": 4,
     "metadata": {},
     "output_type": "execute_result"
    }
   ],
   "source": [
    "df['Miles flown [100 mln miles]'] /= 1000\n",
    "df"
   ]
  },
  {
   "cell_type": "code",
   "execution_count": 5,
   "metadata": {},
   "outputs": [
    {
     "data": {
      "text/plain": [
       "count    1.000000e+01\n",
       "mean     1.776357e-16\n",
       "std      1.117768e+00\n",
       "min     -1.852800e+00\n",
       "25%     -5.753000e-01\n",
       "50%      1.297000e-01\n",
       "75%      4.597000e-01\n",
       "max      1.717200e+00\n",
       "Name: Miles centered, dtype: float64"
      ]
     },
     "execution_count": 5,
     "metadata": {},
     "output_type": "execute_result"
    }
   ],
   "source": [
    "df['Miles centered'] = df['Miles flown [100 mln miles]'] - df['Miles flown [100 mln miles]'].mean()\n",
    "df['Miles centered'].describe()"
   ]
  },
  {
   "cell_type": "code",
   "execution_count": 6,
   "metadata": {},
   "outputs": [
    {
     "name": "stdout",
     "output_type": "stream",
     "text": [
      "theta=0.4508\n",
      "alpha=3.1379\n"
     ]
    }
   ],
   "source": [
    "upper_bound = 50\n",
    "lower_bound = 10\n",
    "\n",
    "n_max = df['Miles centered'].max()\n",
    "n_min = df['Miles centered'].min()\n",
    "\n",
    "theta = (np.log(upper_bound) - np.log(lower_bound)) / (n_max - n_min)\n",
    "alpha = np.log(lower_bound) - theta * n_min\n",
    "\n",
    "print(f\"{theta=:.4f}\\n{alpha=:.4f}\")"
   ]
  },
  {
   "attachments": {},
   "cell_type": "markdown",
   "metadata": {},
   "source": [
    "### Prior predictive distribution"
   ]
  },
  {
   "cell_type": "code",
   "execution_count": 8,
   "metadata": {},
   "outputs": [
    {
     "name": "stderr",
     "output_type": "stream",
     "text": [
      "INFO:cmdstanpy:found newer exe file, not recompiling\n"
     ]
    }
   ],
   "source": [
    "model_1 = CmdStanModel(stan_file=\"code_1.stan\")"
   ]
  },
  {
   "cell_type": "code",
   "execution_count": 9,
   "metadata": {},
   "outputs": [
    {
     "name": "stderr",
     "output_type": "stream",
     "text": [
      "INFO:cmdstanpy:CmdStan start processing\n",
      "chain 1 |\u001b[34m██████████\u001b[0m| 00:00 Sampling completed"
     ]
    },
    {
     "name": "stdout",
     "output_type": "stream",
     "text": [
      "                                                                                "
     ]
    },
    {
     "name": "stderr",
     "output_type": "stream",
     "text": [
      "\n",
      "INFO:cmdstanpy:CmdStan done processing.\n"
     ]
    },
    {
     "name": "stdout",
     "output_type": "stream",
     "text": [
      "\n"
     ]
    }
   ],
   "source": [
    "R = 1000\n",
    "sample=model_1.sample(iter_sampling=R,\n",
    "                     iter_warmup=0,\n",
    "                     chains=1,\n",
    "                     fixed_param=True,\n",
    "                     seed=29042020,\n",
    "                     refresh=R)"
   ]
  },
  {
   "cell_type": "code",
   "execution_count": 10,
   "metadata": {},
   "outputs": [],
   "source": [
    "accidents = sample.draws_pd().accidents.values"
   ]
  },
  {
   "cell_type": "code",
   "execution_count": 11,
   "metadata": {},
   "outputs": [
    {
     "name": "stderr",
     "output_type": "stream",
     "text": [
      "No artists with labels found to put in legend.  Note that artists whose label start with an underscore are ignored when legend() is called with no argument.\n"
     ]
    },
    {
     "data": {
      "image/png": "[encoded data removed]",
      "text/plain": [
       "<Figure size 432x288 with 1 Axes>"
      ]
     },
     "metadata": {
      "needs_background": "light"
     },
     "output_type": "display_data"
    }
   ],
   "source": [
    "plt.hist(accidents, density=True, bins=100)\n",
    "plt.title('Accidents')\n",
    "plt.xlabel('accidents')\n",
    "plt.legend()\n",
    "plt.show()"
   ]
  },
  {
   "attachments": {},
   "cell_type": "markdown",
   "metadata": {},
   "source": [
    "### Posterior predictive distribution"
   ]
  },
  {
   "cell_type": "code",
   "execution_count": 12,
   "metadata": {},
   "outputs": [
    {
     "name": "stderr",
     "output_type": "stream",
     "text": [
      "INFO:cmdstanpy:found newer exe file, not recompiling\n"
     ]
    }
   ],
   "source": [
    "model_2 = CmdStanModel(stan_file='code_2.stan')"
   ]
  },
  {
   "cell_type": "code",
   "execution_count": 13,
   "metadata": {},
   "outputs": [
    {
     "name": "stderr",
     "output_type": "stream",
     "text": [
      "INFO:cmdstanpy:CmdStan start processing\n",
      "chain 1 |\u001b[33m          \u001b[0m| 00:00 Status\n",
      "\u001b[A\n",
      "\n",
      "chain 1 |\u001b[34m██████████\u001b[0m| 00:00 Sampling completed\n",
      "chain 2 |\u001b[34m██████████\u001b[0m| 00:00 Sampling completed\n",
      "chain 3 |\u001b[34m██████████\u001b[0m| 00:00 Sampling completed\n",
      "chain 4 |\u001b[34m██████████\u001b[0m| 00:00 Sampling completed"
     ]
    },
    {
     "name": "stdout",
     "output_type": "stream",
     "text": [
      "                                                                                                                                                                                                                                                                                                                                "
     ]
    },
    {
     "name": "stderr",
     "output_type": "stream",
     "text": [
      "\n",
      "INFO:cmdstanpy:CmdStan done processing.\n"
     ]
    },
    {
     "name": "stdout",
     "output_type": "stream",
     "text": [
      "\n"
     ]
    }
   ],
   "source": [
    "data_fit = {'N': len(df), 'miles': df['Miles centered'].values, 'accidents': df['Fatal accidents'].values}\n",
    "fit = model_2.sample(data=data_fit, seed=15042023)"
   ]
  },
  {
   "cell_type": "code",
   "execution_count": 14,
   "metadata": {},
   "outputs": [
    {
     "data": {
      "text/html": [
       "<div>\n",
       "<style scoped>\n",
       "    .dataframe tbody tr th:only-of-type {\n",
       "        vertical-align: middle;\n",
       "    }\n",
       "\n",
       "    .dataframe tbody tr th {\n",
       "        vertical-align: top;\n",
       "    }\n",
       "\n",
       "    .dataframe thead th {\n",
       "        text-align: right;\n",
       "    }\n",
       "</style>\n",
       "<table border=\"1\" class=\"dataframe\">\n",
       "  <thead>\n",
       "    <tr style=\"text-align: right;\">\n",
       "      <th></th>\n",
       "      <th>lp__</th>\n",
       "      <th>accept_stat__</th>\n",
       "      <th>stepsize__</th>\n",
       "      <th>treedepth__</th>\n",
       "      <th>n_leapfrog__</th>\n",
       "      <th>divergent__</th>\n",
       "      <th>energy__</th>\n",
       "      <th>alpha</th>\n",
       "      <th>theta</th>\n",
       "      <th>lambda[1]</th>\n",
       "      <th>lambda[2]</th>\n",
       "      <th>lambda[3]</th>\n",
       "      <th>lambda[4]</th>\n",
       "      <th>lambda[5]</th>\n",
       "      <th>lambda[6]</th>\n",
       "      <th>lambda[7]</th>\n",
       "      <th>lambda[8]</th>\n",
       "      <th>lambda[9]</th>\n",
       "      <th>lambda[10]</th>\n",
       "    </tr>\n",
       "  </thead>\n",
       "  <tbody>\n",
       "    <tr>\n",
       "      <th>0</th>\n",
       "      <td>511.952</td>\n",
       "      <td>0.992241</td>\n",
       "      <td>0.994404</td>\n",
       "      <td>1.0</td>\n",
       "      <td>3.0</td>\n",
       "      <td>0.0</td>\n",
       "      <td>-511.355</td>\n",
       "      <td>3.16988</td>\n",
       "      <td>-0.018742</td>\n",
       "      <td>24.6457</td>\n",
       "      <td>24.4447</td>\n",
       "      <td>24.1139</td>\n",
       "      <td>23.9096</td>\n",
       "      <td>23.7608</td>\n",
       "      <td>23.6635</td>\n",
       "      <td>23.7328</td>\n",
       "      <td>23.5794</td>\n",
       "      <td>23.0507</td>\n",
       "      <td>23.1920</td>\n",
       "    </tr>\n",
       "    <tr>\n",
       "      <th>1</th>\n",
       "      <td>511.880</td>\n",
       "      <td>0.845742</td>\n",
       "      <td>0.994404</td>\n",
       "      <td>2.0</td>\n",
       "      <td>3.0</td>\n",
       "      <td>0.0</td>\n",
       "      <td>-510.837</td>\n",
       "      <td>3.15012</td>\n",
       "      <td>-0.008717</td>\n",
       "      <td>23.7188</td>\n",
       "      <td>23.6286</td>\n",
       "      <td>23.4794</td>\n",
       "      <td>23.3866</td>\n",
       "      <td>23.3189</td>\n",
       "      <td>23.2744</td>\n",
       "      <td>23.3060</td>\n",
       "      <td>23.2359</td>\n",
       "      <td>22.9921</td>\n",
       "      <td>23.0575</td>\n",
       "    </tr>\n",
       "    <tr>\n",
       "      <th>2</th>\n",
       "      <td>511.539</td>\n",
       "      <td>0.952048</td>\n",
       "      <td>0.994404</td>\n",
       "      <td>2.0</td>\n",
       "      <td>3.0</td>\n",
       "      <td>0.0</td>\n",
       "      <td>-511.530</td>\n",
       "      <td>3.18673</td>\n",
       "      <td>-0.071500</td>\n",
       "      <td>27.6383</td>\n",
       "      <td>26.7881</td>\n",
       "      <td>25.4312</td>\n",
       "      <td>24.6190</td>\n",
       "      <td>24.0397</td>\n",
       "      <td>23.6662</td>\n",
       "      <td>23.9317</td>\n",
       "      <td>23.3469</td>\n",
       "      <td>21.4120</td>\n",
       "      <td>21.9169</td>\n",
       "    </tr>\n",
       "    <tr>\n",
       "      <th>3</th>\n",
       "      <td>511.577</td>\n",
       "      <td>0.969425</td>\n",
       "      <td>0.994404</td>\n",
       "      <td>2.0</td>\n",
       "      <td>3.0</td>\n",
       "      <td>0.0</td>\n",
       "      <td>-511.049</td>\n",
       "      <td>3.22241</td>\n",
       "      <td>-0.009186</td>\n",
       "      <td>25.5192</td>\n",
       "      <td>25.4170</td>\n",
       "      <td>25.2478</td>\n",
       "      <td>25.1428</td>\n",
       "      <td>25.0660</td>\n",
       "      <td>25.0156</td>\n",
       "      <td>25.0515</td>\n",
       "      <td>24.9720</td>\n",
       "      <td>24.6959</td>\n",
       "      <td>24.7700</td>\n",
       "    </tr>\n",
       "    <tr>\n",
       "      <th>4</th>\n",
       "      <td>511.097</td>\n",
       "      <td>0.889576</td>\n",
       "      <td>0.994404</td>\n",
       "      <td>1.0</td>\n",
       "      <td>1.0</td>\n",
       "      <td>0.0</td>\n",
       "      <td>-511.078</td>\n",
       "      <td>3.25045</td>\n",
       "      <td>-0.006677</td>\n",
       "      <td>26.1231</td>\n",
       "      <td>26.0470</td>\n",
       "      <td>25.9209</td>\n",
       "      <td>25.8424</td>\n",
       "      <td>25.7850</td>\n",
       "      <td>25.7473</td>\n",
       "      <td>25.7742</td>\n",
       "      <td>25.7147</td>\n",
       "      <td>25.5078</td>\n",
       "      <td>25.5634</td>\n",
       "    </tr>\n",
       "  </tbody>\n",
       "</table>\n",
       "</div>"
      ],
      "text/plain": [
       "      lp__  accept_stat__  stepsize__  treedepth__  n_leapfrog__  divergent__  \\\n",
       "0  511.952       0.992241    0.994404          1.0           3.0          0.0   \n",
       "1  511.880       0.845742    0.994404          2.0           3.0          0.0   \n",
       "2  511.539       0.952048    0.994404          2.0           3.0          0.0   \n",
       "3  511.577       0.969425    0.994404          2.0           3.0          0.0   \n",
       "4  511.097       0.889576    0.994404          1.0           1.0          0.0   \n",
       "\n",
       "   energy__    alpha     theta  lambda[1]  lambda[2]  lambda[3]  lambda[4]  \\\n",
       "0  -511.355  3.16988 -0.018742    24.6457    24.4447    24.1139    23.9096   \n",
       "1  -510.837  3.15012 -0.008717    23.7188    23.6286    23.4794    23.3866   \n",
       "2  -511.530  3.18673 -0.071500    27.6383    26.7881    25.4312    24.6190   \n",
       "3  -511.049  3.22241 -0.009186    25.5192    25.4170    25.2478    25.1428   \n",
       "4  -511.078  3.25045 -0.006677    26.1231    26.0470    25.9209    25.8424   \n",
       "\n",
       "   lambda[5]  lambda[6]  lambda[7]  lambda[8]  lambda[9]  lambda[10]  \n",
       "0    23.7608    23.6635    23.7328    23.5794    23.0507     23.1920  \n",
       "1    23.3189    23.2744    23.3060    23.2359    22.9921     23.0575  \n",
       "2    24.0397    23.6662    23.9317    23.3469    21.4120     21.9169  \n",
       "3    25.0660    25.0156    25.0515    24.9720    24.6959     24.7700  \n",
       "4    25.7850    25.7473    25.7742    25.7147    25.5078     25.5634  "
      ]
     },
     "execution_count": 14,
     "metadata": {},
     "output_type": "execute_result"
    }
   ],
   "source": [
    "fit_df = fit.draws_pd()\n",
    "fit_df.head()"
   ]
  },
  {
   "cell_type": "code",
   "execution_count": 15,
   "metadata": {},
   "outputs": [],
   "source": [
    "years = df['Year'].values\n",
    "observed_lambda = df['Fatal accidents'].values\n",
    "sampled_lambdas = fit_df.loc[:, \"lambda[1]\":\"lambda[10]\"]"
   ]
  },
  {
   "cell_type": "code",
   "execution_count": 16,
   "metadata": {},
   "outputs": [
    {
     "data": {
      "image/png": "[encoded data removed]",
      "text/plain": [
       "<Figure size 1296x2160 with 10 Axes>"
      ]
     },
     "metadata": {
      "needs_background": "light"
     },
     "output_type": "display_data"
    }
   ],
   "source": [
    "fig, axes = plt.subplots(int(len(df)/2), 2, figsize=(18, 30))\n",
    "axes = axes.flatten()\n",
    "\n",
    "for i, ax in enumerate(axes):\n",
    "    ax.hist(sampled_lambdas[f'lambda[{i + 1}]'].values, density=True, label='samples')\n",
    "    ax.set_xlabel('lambda')\n",
    "    ax.set_title(f'Year: {years[i]}')\n",
    "    ax.legend()"
   ]
  },
  {
   "attachments": {},
   "cell_type": "markdown",
   "metadata": {},
   "source": [
    "### Posterior predictive distribution for each year"
   ]
  },
  {
   "cell_type": "code",
   "execution_count": 17,
   "metadata": {},
   "outputs": [
    {
     "name": "stderr",
     "output_type": "stream",
     "text": [
      "INFO:cmdstanpy:found newer exe file, not recompiling\n"
     ]
    }
   ],
   "source": [
    "model_3 = CmdStanModel(stan_file='code_3.stan')"
   ]
  },
  {
   "cell_type": "code",
   "execution_count": 18,
   "metadata": {},
   "outputs": [
    {
     "name": "stderr",
     "output_type": "stream",
     "text": [
      "INFO:cmdstanpy:CmdStan start processing\n",
      "chain 1 |\u001b[33m          \u001b[0m| 00:00 Status\n",
      "\u001b[A\n",
      "\n",
      "chain 1 |\u001b[34m██████████\u001b[0m| 00:00 Sampling completed\n",
      "chain 2 |\u001b[34m██████████\u001b[0m| 00:00 Sampling completed\n",
      "chain 3 |\u001b[34m██████████\u001b[0m| 00:00 Sampling completed\n",
      "chain 4 |\u001b[34m██████████\u001b[0m| 00:00 Sampling completed"
     ]
    },
    {
     "name": "stdout",
     "output_type": "stream",
     "text": [
      "                                                                                                                                                                                                                                                                                                                                "
     ]
    },
    {
     "name": "stderr",
     "output_type": "stream",
     "text": [
      "\n",
      "INFO:cmdstanpy:CmdStan done processing.\n"
     ]
    },
    {
     "name": "stdout",
     "output_type": "stream",
     "text": [
      "\n"
     ]
    }
   ],
   "source": [
    "fit_2 = model_3.sample(data=data_fit, seed=15042023)"
   ]
  },
  {
   "cell_type": "code",
   "execution_count": 19,
   "metadata": {},
   "outputs": [
    {
     "data": {
      "text/html": [
       "<div>\n",
       "<style scoped>\n",
       "    .dataframe tbody tr th:only-of-type {\n",
       "        vertical-align: middle;\n",
       "    }\n",
       "\n",
       "    .dataframe tbody tr th {\n",
       "        vertical-align: top;\n",
       "    }\n",
       "\n",
       "    .dataframe thead th {\n",
       "        text-align: right;\n",
       "    }\n",
       "</style>\n",
       "<table border=\"1\" class=\"dataframe\">\n",
       "  <thead>\n",
       "    <tr style=\"text-align: right;\">\n",
       "      <th></th>\n",
       "      <th>lp__</th>\n",
       "      <th>accept_stat__</th>\n",
       "      <th>stepsize__</th>\n",
       "      <th>treedepth__</th>\n",
       "      <th>n_leapfrog__</th>\n",
       "      <th>divergent__</th>\n",
       "      <th>energy__</th>\n",
       "      <th>alpha[1]</th>\n",
       "      <th>alpha[2]</th>\n",
       "      <th>alpha[3]</th>\n",
       "      <th>...</th>\n",
       "      <th>lambda[1]</th>\n",
       "      <th>lambda[2]</th>\n",
       "      <th>lambda[3]</th>\n",
       "      <th>lambda[4]</th>\n",
       "      <th>lambda[5]</th>\n",
       "      <th>lambda[6]</th>\n",
       "      <th>lambda[7]</th>\n",
       "      <th>lambda[8]</th>\n",
       "      <th>lambda[9]</th>\n",
       "      <th>lambda[10]</th>\n",
       "    </tr>\n",
       "  </thead>\n",
       "  <tbody>\n",
       "    <tr>\n",
       "      <th>0</th>\n",
       "      <td>514.238</td>\n",
       "      <td>0.948757</td>\n",
       "      <td>0.438493</td>\n",
       "      <td>3.0</td>\n",
       "      <td>7.0</td>\n",
       "      <td>0.0</td>\n",
       "      <td>-506.827</td>\n",
       "      <td>3.86637</td>\n",
       "      <td>3.95448</td>\n",
       "      <td>3.85231</td>\n",
       "      <td>...</td>\n",
       "      <td>21.5442</td>\n",
       "      <td>28.3894</td>\n",
       "      <td>35.0330</td>\n",
       "      <td>36.4576</td>\n",
       "      <td>22.2572</td>\n",
       "      <td>18.1008</td>\n",
       "      <td>19.5961</td>\n",
       "      <td>26.3495</td>\n",
       "      <td>22.9549</td>\n",
       "      <td>24.7667</td>\n",
       "    </tr>\n",
       "    <tr>\n",
       "      <th>1</th>\n",
       "      <td>513.451</td>\n",
       "      <td>0.961482</td>\n",
       "      <td>0.438493</td>\n",
       "      <td>3.0</td>\n",
       "      <td>15.0</td>\n",
       "      <td>0.0</td>\n",
       "      <td>-509.012</td>\n",
       "      <td>4.25582</td>\n",
       "      <td>3.85919</td>\n",
       "      <td>3.71604</td>\n",
       "      <td>...</td>\n",
       "      <td>23.5772</td>\n",
       "      <td>20.5333</td>\n",
       "      <td>27.3513</td>\n",
       "      <td>25.5359</td>\n",
       "      <td>24.2596</td>\n",
       "      <td>24.3681</td>\n",
       "      <td>20.8243</td>\n",
       "      <td>21.2778</td>\n",
       "      <td>10.3886</td>\n",
       "      <td>22.2827</td>\n",
       "    </tr>\n",
       "    <tr>\n",
       "      <th>2</th>\n",
       "      <td>512.678</td>\n",
       "      <td>0.923482</td>\n",
       "      <td>0.438493</td>\n",
       "      <td>3.0</td>\n",
       "      <td>7.0</td>\n",
       "      <td>0.0</td>\n",
       "      <td>-506.915</td>\n",
       "      <td>4.01467</td>\n",
       "      <td>3.93476</td>\n",
       "      <td>3.96098</td>\n",
       "      <td>...</td>\n",
       "      <td>19.3821</td>\n",
       "      <td>22.9237</td>\n",
       "      <td>35.5347</td>\n",
       "      <td>34.3198</td>\n",
       "      <td>22.2358</td>\n",
       "      <td>19.8271</td>\n",
       "      <td>28.2792</td>\n",
       "      <td>16.8010</td>\n",
       "      <td>8.6395</td>\n",
       "      <td>22.0012</td>\n",
       "    </tr>\n",
       "    <tr>\n",
       "      <th>3</th>\n",
       "      <td>514.965</td>\n",
       "      <td>0.883326</td>\n",
       "      <td>0.438493</td>\n",
       "      <td>4.0</td>\n",
       "      <td>15.0</td>\n",
       "      <td>0.0</td>\n",
       "      <td>-507.102</td>\n",
       "      <td>4.14873</td>\n",
       "      <td>4.08278</td>\n",
       "      <td>3.63542</td>\n",
       "      <td>...</td>\n",
       "      <td>28.7629</td>\n",
       "      <td>32.4396</td>\n",
       "      <td>28.2718</td>\n",
       "      <td>27.0707</td>\n",
       "      <td>21.0166</td>\n",
       "      <td>18.3886</td>\n",
       "      <td>22.5633</td>\n",
       "      <td>21.9420</td>\n",
       "      <td>21.9432</td>\n",
       "      <td>19.1794</td>\n",
       "    </tr>\n",
       "    <tr>\n",
       "      <th>4</th>\n",
       "      <td>512.641</td>\n",
       "      <td>0.926606</td>\n",
       "      <td>0.438493</td>\n",
       "      <td>3.0</td>\n",
       "      <td>7.0</td>\n",
       "      <td>0.0</td>\n",
       "      <td>-508.995</td>\n",
       "      <td>3.79062</td>\n",
       "      <td>3.59338</td>\n",
       "      <td>3.56089</td>\n",
       "      <td>...</td>\n",
       "      <td>19.6114</td>\n",
       "      <td>19.5111</td>\n",
       "      <td>25.9996</td>\n",
       "      <td>29.1224</td>\n",
       "      <td>23.6891</td>\n",
       "      <td>15.7783</td>\n",
       "      <td>35.0392</td>\n",
       "      <td>22.5784</td>\n",
       "      <td>10.0291</td>\n",
       "      <td>25.1821</td>\n",
       "    </tr>\n",
       "  </tbody>\n",
       "</table>\n",
       "<p>5 rows × 28 columns</p>\n",
       "</div>"
      ],
      "text/plain": [
       "      lp__  accept_stat__  stepsize__  treedepth__  n_leapfrog__  divergent__  \\\n",
       "0  514.238       0.948757    0.438493          3.0           7.0          0.0   \n",
       "1  513.451       0.961482    0.438493          3.0          15.0          0.0   \n",
       "2  512.678       0.923482    0.438493          3.0           7.0          0.0   \n",
       "3  514.965       0.883326    0.438493          4.0          15.0          0.0   \n",
       "4  512.641       0.926606    0.438493          3.0           7.0          0.0   \n",
       "\n",
       "   energy__  alpha[1]  alpha[2]  alpha[3]  ...  lambda[1]  lambda[2]  \\\n",
       "0  -506.827   3.86637   3.95448   3.85231  ...    21.5442    28.3894   \n",
       "1  -509.012   4.25582   3.85919   3.71604  ...    23.5772    20.5333   \n",
       "2  -506.915   4.01467   3.93476   3.96098  ...    19.3821    22.9237   \n",
       "3  -507.102   4.14873   4.08278   3.63542  ...    28.7629    32.4396   \n",
       "4  -508.995   3.79062   3.59338   3.56089  ...    19.6114    19.5111   \n",
       "\n",
       "   lambda[3]  lambda[4]  lambda[5]  lambda[6]  lambda[7]  lambda[8]  \\\n",
       "0    35.0330    36.4576    22.2572    18.1008    19.5961    26.3495   \n",
       "1    27.3513    25.5359    24.2596    24.3681    20.8243    21.2778   \n",
       "2    35.5347    34.3198    22.2358    19.8271    28.2792    16.8010   \n",
       "3    28.2718    27.0707    21.0166    18.3886    22.5633    21.9420   \n",
       "4    25.9996    29.1224    23.6891    15.7783    35.0392    22.5784   \n",
       "\n",
       "   lambda[9]  lambda[10]  \n",
       "0    22.9549     24.7667  \n",
       "1    10.3886     22.2827  \n",
       "2     8.6395     22.0012  \n",
       "3    21.9432     19.1794  \n",
       "4    10.0291     25.1821  \n",
       "\n",
       "[5 rows x 28 columns]"
      ]
     },
     "execution_count": 19,
     "metadata": {},
     "output_type": "execute_result"
    }
   ],
   "source": [
    "fit_2_df = fit_2.draws_pd()\n",
    "fit_2_df.head()"
   ]
  },
  {
   "cell_type": "code",
   "execution_count": 20,
   "metadata": {},
   "outputs": [],
   "source": [
    "years = df['Year'].values\n",
    "observed_lambda = df['Fatal accidents'].values\n",
    "sampled_lambdas = fit_2_df.loc[:, \"lambda[1]\":\"lambda[10]\"]"
   ]
  },
  {
   "cell_type": "code",
   "execution_count": 21,
   "metadata": {},
   "outputs": [
    {
     "data": {
      "image/png": "[encoded data removed]",
      "text/plain": [
       "<Figure size 1296x2160 with 10 Axes>"
      ]
     },
     "metadata": {
      "needs_background": "light"
     },
     "output_type": "display_data"
    }
   ],
   "source": [
    "fig, axes = plt.subplots(int(len(df)/2), 2, figsize=(18, 30))\n",
    "axes = axes.flatten()\n",
    "\n",
    "for i, ax in enumerate(axes):\n",
    "    ax.hist(sampled_lambdas[f'lambda[{i + 1}]'].values, density=True, label='samples')\n",
    "    ax.set_xlabel('lambda')\n",
    "    ax.set_title(f'Year: {years[i]}')\n",
    "    ax.legend()"
   ]
  }
 ],
 "metadata": {
  "kernelspec": {
   "display_name": "Python 3",
   "language": "python",
   "name": "python3"
  },
  "language_info": {
   "codemirror_mode": {
    "name": "ipython",
    "version": 3
   },
   "file_extension": ".py",
   "mimetype": "text/x-python",
   "name": "python",
   "nbconvert_exporter": "python",
   "pygments_lexer": "ipython3",
   "version": "3.9.11"
  },
  "orig_nbformat": 4
 },
 "nbformat": 4,
 "nbformat_minor": 2
}
