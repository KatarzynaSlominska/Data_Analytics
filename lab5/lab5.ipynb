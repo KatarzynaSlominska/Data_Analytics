{
 "cells": [
  {
   "attachments": {},
   "cell_type": "markdown",
   "metadata": {},
   "source": [
    "## Lab 5 - Using link functions to create generalized linear models"
   ]
  },
  {
   "cell_type": "code",
   "execution_count": 333,
   "metadata": {},
   "outputs": [],
   "source": [
    "import numpy as np\n",
    "import pandas as pd\n",
    "import matplotlib.pyplot as plt\n",
    "from cmdstanpy import CmdStanModel"
   ]
  },
  {
   "cell_type": "code",
   "execution_count": 377,
   "metadata": {},
   "outputs": [
    {
     "data": {
      "text/html": [
       "<div>\n",
       "<style scoped>\n",
       "    .dataframe tbody tr th:only-of-type {\n",
       "        vertical-align: middle;\n",
       "    }\n",
       "\n",
       "    .dataframe tbody tr th {\n",
       "        vertical-align: top;\n",
       "    }\n",
       "\n",
       "    .dataframe thead th {\n",
       "        text-align: right;\n",
       "    }\n",
       "</style>\n",
       "<table border=\"1\" class=\"dataframe\">\n",
       "  <thead>\n",
       "    <tr style=\"text-align: right;\">\n",
       "      <th></th>\n",
       "      <th>Year</th>\n",
       "      <th>Fatal accidents</th>\n",
       "      <th>Passenger deaths</th>\n",
       "      <th>Miles flown [100 mln miles]</th>\n",
       "    </tr>\n",
       "  </thead>\n",
       "  <tbody>\n",
       "    <tr>\n",
       "      <th>0</th>\n",
       "      <td>1976</td>\n",
       "      <td>24</td>\n",
       "      <td>734</td>\n",
       "      <td>3863.0</td>\n",
       "    </tr>\n",
       "    <tr>\n",
       "      <th>1</th>\n",
       "      <td>1977</td>\n",
       "      <td>25</td>\n",
       "      <td>516</td>\n",
       "      <td>4300.0</td>\n",
       "    </tr>\n",
       "    <tr>\n",
       "      <th>2</th>\n",
       "      <td>1978</td>\n",
       "      <td>31</td>\n",
       "      <td>754</td>\n",
       "      <td>5027.0</td>\n",
       "    </tr>\n",
       "    <tr>\n",
       "      <th>3</th>\n",
       "      <td>1979</td>\n",
       "      <td>31</td>\n",
       "      <td>877</td>\n",
       "      <td>5481.0</td>\n",
       "    </tr>\n",
       "    <tr>\n",
       "      <th>4</th>\n",
       "      <td>1980</td>\n",
       "      <td>22</td>\n",
       "      <td>814</td>\n",
       "      <td>5814.0</td>\n",
       "    </tr>\n",
       "    <tr>\n",
       "      <th>5</th>\n",
       "      <td>1981</td>\n",
       "      <td>21</td>\n",
       "      <td>362</td>\n",
       "      <td>6033.0</td>\n",
       "    </tr>\n",
       "    <tr>\n",
       "      <th>6</th>\n",
       "      <td>1982</td>\n",
       "      <td>26</td>\n",
       "      <td>764</td>\n",
       "      <td>5877.0</td>\n",
       "    </tr>\n",
       "    <tr>\n",
       "      <th>7</th>\n",
       "      <td>1983</td>\n",
       "      <td>20</td>\n",
       "      <td>809</td>\n",
       "      <td>6223.0</td>\n",
       "    </tr>\n",
       "    <tr>\n",
       "      <th>8</th>\n",
       "      <td>1984</td>\n",
       "      <td>16</td>\n",
       "      <td>223</td>\n",
       "      <td>7433.0</td>\n",
       "    </tr>\n",
       "    <tr>\n",
       "      <th>9</th>\n",
       "      <td>1985</td>\n",
       "      <td>22</td>\n",
       "      <td>1066</td>\n",
       "      <td>7107.0</td>\n",
       "    </tr>\n",
       "  </tbody>\n",
       "</table>\n",
       "</div>"
      ],
      "text/plain": [
       "   Year  Fatal accidents  Passenger deaths  Miles flown [100 mln miles]\n",
       "0  1976               24               734                       3863.0\n",
       "1  1977               25               516                       4300.0\n",
       "2  1978               31               754                       5027.0\n",
       "3  1979               31               877                       5481.0\n",
       "4  1980               22               814                       5814.0\n",
       "5  1981               21               362                       6033.0\n",
       "6  1982               26               764                       5877.0\n",
       "7  1983               20               809                       6223.0\n",
       "8  1984               16               223                       7433.0\n",
       "9  1985               22              1066                       7107.0"
      ]
     },
     "execution_count": 377,
     "metadata": {},
     "output_type": "execute_result"
    }
   ],
   "source": [
    "df = pd.read_csv('airline_data.csv')\n",
    "df"
   ]
  },
  {
   "cell_type": "code",
   "execution_count": 370,
   "metadata": {},
   "outputs": [
    {
     "data": {
      "text/html": [
       "<div>\n",
       "<style scoped>\n",
       "    .dataframe tbody tr th:only-of-type {\n",
       "        vertical-align: middle;\n",
       "    }\n",
       "\n",
       "    .dataframe tbody tr th {\n",
       "        vertical-align: top;\n",
       "    }\n",
       "\n",
       "    .dataframe thead th {\n",
       "        text-align: right;\n",
       "    }\n",
       "</style>\n",
       "<table border=\"1\" class=\"dataframe\">\n",
       "  <thead>\n",
       "    <tr style=\"text-align: right;\">\n",
       "      <th></th>\n",
       "      <th>Year</th>\n",
       "      <th>Fatal accidents</th>\n",
       "      <th>Passenger deaths</th>\n",
       "      <th>Miles flown [100 mln miles]</th>\n",
       "    </tr>\n",
       "  </thead>\n",
       "  <tbody>\n",
       "    <tr>\n",
       "      <th>0</th>\n",
       "      <td>1976</td>\n",
       "      <td>24</td>\n",
       "      <td>734</td>\n",
       "      <td>3.863</td>\n",
       "    </tr>\n",
       "    <tr>\n",
       "      <th>1</th>\n",
       "      <td>1977</td>\n",
       "      <td>25</td>\n",
       "      <td>516</td>\n",
       "      <td>4.300</td>\n",
       "    </tr>\n",
       "    <tr>\n",
       "      <th>2</th>\n",
       "      <td>1978</td>\n",
       "      <td>31</td>\n",
       "      <td>754</td>\n",
       "      <td>5.027</td>\n",
       "    </tr>\n",
       "    <tr>\n",
       "      <th>3</th>\n",
       "      <td>1979</td>\n",
       "      <td>31</td>\n",
       "      <td>877</td>\n",
       "      <td>5.481</td>\n",
       "    </tr>\n",
       "    <tr>\n",
       "      <th>4</th>\n",
       "      <td>1980</td>\n",
       "      <td>22</td>\n",
       "      <td>814</td>\n",
       "      <td>5.814</td>\n",
       "    </tr>\n",
       "    <tr>\n",
       "      <th>5</th>\n",
       "      <td>1981</td>\n",
       "      <td>21</td>\n",
       "      <td>362</td>\n",
       "      <td>6.033</td>\n",
       "    </tr>\n",
       "    <tr>\n",
       "      <th>6</th>\n",
       "      <td>1982</td>\n",
       "      <td>26</td>\n",
       "      <td>764</td>\n",
       "      <td>5.877</td>\n",
       "    </tr>\n",
       "    <tr>\n",
       "      <th>7</th>\n",
       "      <td>1983</td>\n",
       "      <td>20</td>\n",
       "      <td>809</td>\n",
       "      <td>6.223</td>\n",
       "    </tr>\n",
       "    <tr>\n",
       "      <th>8</th>\n",
       "      <td>1984</td>\n",
       "      <td>16</td>\n",
       "      <td>223</td>\n",
       "      <td>7.433</td>\n",
       "    </tr>\n",
       "    <tr>\n",
       "      <th>9</th>\n",
       "      <td>1985</td>\n",
       "      <td>22</td>\n",
       "      <td>1066</td>\n",
       "      <td>7.107</td>\n",
       "    </tr>\n",
       "  </tbody>\n",
       "</table>\n",
       "</div>"
      ],
      "text/plain": [
       "   Year  Fatal accidents  Passenger deaths  Miles flown [100 mln miles]\n",
       "0  1976               24               734                        3.863\n",
       "1  1977               25               516                        4.300\n",
       "2  1978               31               754                        5.027\n",
       "3  1979               31               877                        5.481\n",
       "4  1980               22               814                        5.814\n",
       "5  1981               21               362                        6.033\n",
       "6  1982               26               764                        5.877\n",
       "7  1983               20               809                        6.223\n",
       "8  1984               16               223                        7.433\n",
       "9  1985               22              1066                        7.107"
      ]
     },
     "execution_count": 370,
     "metadata": {},
     "output_type": "execute_result"
    }
   ],
   "source": [
    "df['Miles flown [100 mln miles]'] /= 1000\n",
    "df"
   ]
  },
  {
   "cell_type": "code",
   "execution_count": 378,
   "metadata": {},
   "outputs": [
    {
     "data": {
      "text/plain": [
       "count    1.000000e+01\n",
       "mean    -1.818989e-13\n",
       "std      1.117768e+03\n",
       "min     -1.852800e+03\n",
       "25%     -5.753000e+02\n",
       "50%      1.297000e+02\n",
       "75%      4.597000e+02\n",
       "max      1.717200e+03\n",
       "Name: Miles centered, dtype: float64"
      ]
     },
     "execution_count": 378,
     "metadata": {},
     "output_type": "execute_result"
    }
   ],
   "source": [
    "df['Miles centered'] = df['Miles flown [100 mln miles]'] - df['Miles flown [100 mln miles]'].mean()\n",
    "df['Miles centered'].describe()"
   ]
  },
  {
   "attachments": {},
   "cell_type": "markdown",
   "metadata": {},
   "source": [
    "### Prior predictive distribution"
   ]
  },
  {
   "cell_type": "code",
   "execution_count": 372,
   "metadata": {},
   "outputs": [
    {
     "name": "stderr",
     "output_type": "stream",
     "text": [
      "INFO:cmdstanpy:found newer exe file, not recompiling\n"
     ]
    }
   ],
   "source": [
    "model_1 = CmdStanModel(stan_file=\"code_1.stan\")"
   ]
  },
  {
   "cell_type": "code",
   "execution_count": 373,
   "metadata": {},
   "outputs": [
    {
     "name": "stderr",
     "output_type": "stream",
     "text": [
      "INFO:cmdstanpy:CmdStan start processing\n",
      "chain 1 |\u001b[34m██████████\u001b[0m| 00:00 Sampling completed                      "
     ]
    },
    {
     "name": "stdout",
     "output_type": "stream",
     "text": [
      "                                                                                "
     ]
    },
    {
     "name": "stderr",
     "output_type": "stream",
     "text": [
      "\n",
      "INFO:cmdstanpy:CmdStan done processing.\n"
     ]
    },
    {
     "name": "stdout",
     "output_type": "stream",
     "text": [
      "\n"
     ]
    }
   ],
   "source": [
    "R = 1000\n",
    "sample=model_1.sample(iter_sampling=R,\n",
    "                     iter_warmup=0,\n",
    "                     chains=1,\n",
    "                     fixed_param=True,\n",
    "                     seed=29042020,\n",
    "                     refresh=R)"
   ]
  },
  {
   "cell_type": "code",
   "execution_count": 374,
   "metadata": {},
   "outputs": [
    {
     "data": {
      "text/html": [
       "<div>\n",
       "<style scoped>\n",
       "    .dataframe tbody tr th:only-of-type {\n",
       "        vertical-align: middle;\n",
       "    }\n",
       "\n",
       "    .dataframe tbody tr th {\n",
       "        vertical-align: top;\n",
       "    }\n",
       "\n",
       "    .dataframe thead th {\n",
       "        text-align: right;\n",
       "    }\n",
       "</style>\n",
       "<table border=\"1\" class=\"dataframe\">\n",
       "  <thead>\n",
       "    <tr style=\"text-align: right;\">\n",
       "      <th></th>\n",
       "      <th>lp__</th>\n",
       "      <th>accept_stat__</th>\n",
       "      <th>theta</th>\n",
       "      <th>alpha</th>\n",
       "      <th>n</th>\n",
       "      <th>lambda</th>\n",
       "      <th>accidents</th>\n",
       "    </tr>\n",
       "  </thead>\n",
       "  <tbody>\n",
       "    <tr>\n",
       "      <th>0</th>\n",
       "      <td>0.0</td>\n",
       "      <td>0.0</td>\n",
       "      <td>0.770817</td>\n",
       "      <td>3.77718</td>\n",
       "      <td>-1.272270</td>\n",
       "      <td>16.38710</td>\n",
       "      <td>15.0</td>\n",
       "    </tr>\n",
       "    <tr>\n",
       "      <th>1</th>\n",
       "      <td>0.0</td>\n",
       "      <td>0.0</td>\n",
       "      <td>0.416611</td>\n",
       "      <td>5.39842</td>\n",
       "      <td>-1.704840</td>\n",
       "      <td>108.65300</td>\n",
       "      <td>99.0</td>\n",
       "    </tr>\n",
       "    <tr>\n",
       "      <th>2</th>\n",
       "      <td>0.0</td>\n",
       "      <td>0.0</td>\n",
       "      <td>0.574349</td>\n",
       "      <td>3.65597</td>\n",
       "      <td>0.230099</td>\n",
       "      <td>44.17360</td>\n",
       "      <td>37.0</td>\n",
       "    </tr>\n",
       "    <tr>\n",
       "      <th>3</th>\n",
       "      <td>0.0</td>\n",
       "      <td>0.0</td>\n",
       "      <td>0.559894</td>\n",
       "      <td>2.97798</td>\n",
       "      <td>1.312050</td>\n",
       "      <td>40.95950</td>\n",
       "      <td>27.0</td>\n",
       "    </tr>\n",
       "    <tr>\n",
       "      <th>4</th>\n",
       "      <td>0.0</td>\n",
       "      <td>0.0</td>\n",
       "      <td>0.465787</td>\n",
       "      <td>2.68887</td>\n",
       "      <td>1.660650</td>\n",
       "      <td>31.89280</td>\n",
       "      <td>35.0</td>\n",
       "    </tr>\n",
       "    <tr>\n",
       "      <th>...</th>\n",
       "      <td>...</td>\n",
       "      <td>...</td>\n",
       "      <td>...</td>\n",
       "      <td>...</td>\n",
       "      <td>...</td>\n",
       "      <td>...</td>\n",
       "      <td>...</td>\n",
       "    </tr>\n",
       "    <tr>\n",
       "      <th>995</th>\n",
       "      <td>0.0</td>\n",
       "      <td>0.0</td>\n",
       "      <td>0.386574</td>\n",
       "      <td>2.60193</td>\n",
       "      <td>0.335451</td>\n",
       "      <td>15.35750</td>\n",
       "      <td>19.0</td>\n",
       "    </tr>\n",
       "    <tr>\n",
       "      <th>996</th>\n",
       "      <td>0.0</td>\n",
       "      <td>0.0</td>\n",
       "      <td>0.532390</td>\n",
       "      <td>4.56077</td>\n",
       "      <td>0.282876</td>\n",
       "      <td>111.20500</td>\n",
       "      <td>104.0</td>\n",
       "    </tr>\n",
       "    <tr>\n",
       "      <th>997</th>\n",
       "      <td>0.0</td>\n",
       "      <td>0.0</td>\n",
       "      <td>0.624437</td>\n",
       "      <td>2.29647</td>\n",
       "      <td>-0.600628</td>\n",
       "      <td>6.83064</td>\n",
       "      <td>12.0</td>\n",
       "    </tr>\n",
       "    <tr>\n",
       "      <th>998</th>\n",
       "      <td>0.0</td>\n",
       "      <td>0.0</td>\n",
       "      <td>0.459557</td>\n",
       "      <td>3.49405</td>\n",
       "      <td>-1.141180</td>\n",
       "      <td>19.48430</td>\n",
       "      <td>23.0</td>\n",
       "    </tr>\n",
       "    <tr>\n",
       "      <th>999</th>\n",
       "      <td>0.0</td>\n",
       "      <td>0.0</td>\n",
       "      <td>0.508399</td>\n",
       "      <td>3.88432</td>\n",
       "      <td>0.026568</td>\n",
       "      <td>49.29510</td>\n",
       "      <td>49.0</td>\n",
       "    </tr>\n",
       "  </tbody>\n",
       "</table>\n",
       "<p>1000 rows × 7 columns</p>\n",
       "</div>"
      ],
      "text/plain": [
       "     lp__  accept_stat__     theta    alpha         n     lambda  accidents\n",
       "0     0.0            0.0  0.770817  3.77718 -1.272270   16.38710       15.0\n",
       "1     0.0            0.0  0.416611  5.39842 -1.704840  108.65300       99.0\n",
       "2     0.0            0.0  0.574349  3.65597  0.230099   44.17360       37.0\n",
       "3     0.0            0.0  0.559894  2.97798  1.312050   40.95950       27.0\n",
       "4     0.0            0.0  0.465787  2.68887  1.660650   31.89280       35.0\n",
       "..    ...            ...       ...      ...       ...        ...        ...\n",
       "995   0.0            0.0  0.386574  2.60193  0.335451   15.35750       19.0\n",
       "996   0.0            0.0  0.532390  4.56077  0.282876  111.20500      104.0\n",
       "997   0.0            0.0  0.624437  2.29647 -0.600628    6.83064       12.0\n",
       "998   0.0            0.0  0.459557  3.49405 -1.141180   19.48430       23.0\n",
       "999   0.0            0.0  0.508399  3.88432  0.026568   49.29510       49.0\n",
       "\n",
       "[1000 rows x 7 columns]"
      ]
     },
     "execution_count": 374,
     "metadata": {},
     "output_type": "execute_result"
    }
   ],
   "source": [
    "df = sample.draws_pd()\n",
    "df"
   ]
  },
  {
   "cell_type": "code",
   "execution_count": 353,
   "metadata": {},
   "outputs": [],
   "source": [
    "lambdas = sample.draws_pd()['lambda'].values\n",
    "accidents = sample.draws_pd().accidents.values"
   ]
  },
  {
   "cell_type": "code",
   "execution_count": 354,
   "metadata": {},
   "outputs": [
    {
     "name": "stderr",
     "output_type": "stream",
     "text": [
      "No artists with labels found to put in legend.  Note that artists whose label start with an underscore are ignored when legend() is called with no argument.\n"
     ]
    },
    {
     "data": {
      "image/png": "[encoded data removed]",
      "text/plain": [
       "<Figure size 432x288 with 1 Axes>"
      ]
     },
     "metadata": {
      "needs_background": "light"
     },
     "output_type": "display_data"
    }
   ],
   "source": [
    "plt.hist(accidents, density=True, bins=100)\n",
    "plt.title('Accidents')\n",
    "plt.xlabel('accidents')\n",
    "plt.legend()\n",
    "plt.show()"
   ]
  },
  {
   "attachments": {},
   "cell_type": "markdown",
   "metadata": {},
   "source": [
    "### Posterior predictive distribution"
   ]
  },
  {
   "cell_type": "code",
   "execution_count": 325,
   "metadata": {},
   "outputs": [
    {
     "name": "stderr",
     "output_type": "stream",
     "text": [
      "INFO:cmdstanpy:found newer exe file, not recompiling\n"
     ]
    }
   ],
   "source": [
    "model_2 = CmdStanModel(stan_file='code_2.stan')"
   ]
  },
  {
   "cell_type": "code",
   "execution_count": 365,
   "metadata": {},
   "outputs": [
    {
     "name": "stderr",
     "output_type": "stream",
     "text": [
      "INFO:cmdstanpy:CmdStan start processing\n",
      "chain 1 |\u001b[33m          \u001b[0m| 00:00 Status\n",
      "\u001b[A\n",
      "\n",
      "\u001b[A\u001b[A\n",
      "\n",
      "chain 1 |\u001b[34m██████████\u001b[0m| 00:00 Sampling completed\n",
      "chain 2 |\u001b[34m██████████\u001b[0m| 00:00 Sampling completed                     \n",
      "\n",
      "chain 3 |\u001b[34m██████████\u001b[0m| 00:00 Sampling completed\n",
      "chain 4 |\u001b[34m██████████\u001b[0m| 00:00 Sampling completed                     \n"
     ]
    },
    {
     "name": "stdout",
     "output_type": "stream",
     "text": [
      "                                                                                                                                                                                                                                                                                                                                "
     ]
    },
    {
     "name": "stderr",
     "output_type": "stream",
     "text": [
      "INFO:cmdstanpy:CmdStan done processing.\n"
     ]
    },
    {
     "name": "stdout",
     "output_type": "stream",
     "text": [
      "\n"
     ]
    }
   ],
   "source": [
    "data_fit = {'N': len(df), 'miles': df['Miles centered'].values, 'accidents': df['Fatal accidents'].values}\n",
    "fit = model_2.sample(data=data_fit, seed=15042023)"
   ]
  },
  {
   "cell_type": "code",
   "execution_count": 366,
   "metadata": {},
   "outputs": [
    {
     "data": {
      "text/html": [
       "<div>\n",
       "<style scoped>\n",
       "    .dataframe tbody tr th:only-of-type {\n",
       "        vertical-align: middle;\n",
       "    }\n",
       "\n",
       "    .dataframe tbody tr th {\n",
       "        vertical-align: top;\n",
       "    }\n",
       "\n",
       "    .dataframe thead th {\n",
       "        text-align: right;\n",
       "    }\n",
       "</style>\n",
       "<table border=\"1\" class=\"dataframe\">\n",
       "  <thead>\n",
       "    <tr style=\"text-align: right;\">\n",
       "      <th></th>\n",
       "      <th>lp__</th>\n",
       "      <th>accept_stat__</th>\n",
       "      <th>stepsize__</th>\n",
       "      <th>treedepth__</th>\n",
       "      <th>n_leapfrog__</th>\n",
       "      <th>divergent__</th>\n",
       "      <th>energy__</th>\n",
       "      <th>alpha</th>\n",
       "      <th>theta</th>\n",
       "      <th>lambda[1]</th>\n",
       "      <th>lambda[2]</th>\n",
       "      <th>lambda[3]</th>\n",
       "      <th>lambda[4]</th>\n",
       "      <th>lambda[5]</th>\n",
       "      <th>lambda[6]</th>\n",
       "      <th>lambda[7]</th>\n",
       "      <th>lambda[8]</th>\n",
       "      <th>lambda[9]</th>\n",
       "      <th>lambda[10]</th>\n",
       "    </tr>\n",
       "  </thead>\n",
       "  <tbody>\n",
       "    <tr>\n",
       "      <th>0</th>\n",
       "      <td>-8.492030e+16</td>\n",
       "      <td>1.0</td>\n",
       "      <td>3.300360e-13</td>\n",
       "      <td>1.0</td>\n",
       "      <td>1.0</td>\n",
       "      <td>0.0</td>\n",
       "      <td>8.492120e+16</td>\n",
       "      <td>-1.22332</td>\n",
       "      <td>-0.021699</td>\n",
       "      <td>8.491390e+16</td>\n",
       "      <td>6.468670e+12</td>\n",
       "      <td>911537.0</td>\n",
       "      <td>48.0184</td>\n",
       "      <td>0.034939</td>\n",
       "      <td>0.000302</td>\n",
       "      <td>0.008905</td>\n",
       "      <td>0.000005</td>\n",
       "      <td>1.933370e-17</td>\n",
       "      <td>2.282690e-14</td>\n",
       "    </tr>\n",
       "    <tr>\n",
       "      <th>1</th>\n",
       "      <td>-8.491680e+16</td>\n",
       "      <td>1.0</td>\n",
       "      <td>3.300360e-13</td>\n",
       "      <td>2.0</td>\n",
       "      <td>3.0</td>\n",
       "      <td>0.0</td>\n",
       "      <td>8.492030e+16</td>\n",
       "      <td>-1.22332</td>\n",
       "      <td>-0.021699</td>\n",
       "      <td>8.491030e+16</td>\n",
       "      <td>6.468460e+12</td>\n",
       "      <td>911522.0</td>\n",
       "      <td>48.0181</td>\n",
       "      <td>0.034939</td>\n",
       "      <td>0.000302</td>\n",
       "      <td>0.008905</td>\n",
       "      <td>0.000005</td>\n",
       "      <td>1.933450e-17</td>\n",
       "      <td>2.282760e-14</td>\n",
       "    </tr>\n",
       "    <tr>\n",
       "      <th>2</th>\n",
       "      <td>-8.491590e+16</td>\n",
       "      <td>1.0</td>\n",
       "      <td>3.300360e-13</td>\n",
       "      <td>1.0</td>\n",
       "      <td>1.0</td>\n",
       "      <td>0.0</td>\n",
       "      <td>8.491680e+16</td>\n",
       "      <td>-1.22332</td>\n",
       "      <td>-0.021699</td>\n",
       "      <td>8.490940e+16</td>\n",
       "      <td>6.468410e+12</td>\n",
       "      <td>911519.0</td>\n",
       "      <td>48.0180</td>\n",
       "      <td>0.034939</td>\n",
       "      <td>0.000302</td>\n",
       "      <td>0.008905</td>\n",
       "      <td>0.000005</td>\n",
       "      <td>1.933470e-17</td>\n",
       "      <td>2.282780e-14</td>\n",
       "    </tr>\n",
       "    <tr>\n",
       "      <th>3</th>\n",
       "      <td>-8.490160e+16</td>\n",
       "      <td>1.0</td>\n",
       "      <td>3.300360e-13</td>\n",
       "      <td>3.0</td>\n",
       "      <td>7.0</td>\n",
       "      <td>0.0</td>\n",
       "      <td>8.491590e+16</td>\n",
       "      <td>-1.22332</td>\n",
       "      <td>-0.021699</td>\n",
       "      <td>8.489510e+16</td>\n",
       "      <td>6.467580e+12</td>\n",
       "      <td>911462.0</td>\n",
       "      <td>48.0170</td>\n",
       "      <td>0.034939</td>\n",
       "      <td>0.000302</td>\n",
       "      <td>0.008905</td>\n",
       "      <td>0.000005</td>\n",
       "      <td>1.933770e-17</td>\n",
       "      <td>2.283070e-14</td>\n",
       "    </tr>\n",
       "    <tr>\n",
       "      <th>4</th>\n",
       "      <td>-8.489800e+16</td>\n",
       "      <td>1.0</td>\n",
       "      <td>3.300360e-13</td>\n",
       "      <td>2.0</td>\n",
       "      <td>3.0</td>\n",
       "      <td>0.0</td>\n",
       "      <td>8.490160e+16</td>\n",
       "      <td>-1.22332</td>\n",
       "      <td>-0.021699</td>\n",
       "      <td>8.489160e+16</td>\n",
       "      <td>6.467370e+12</td>\n",
       "      <td>911448.0</td>\n",
       "      <td>48.0168</td>\n",
       "      <td>0.034939</td>\n",
       "      <td>0.000302</td>\n",
       "      <td>0.008905</td>\n",
       "      <td>0.000005</td>\n",
       "      <td>1.933840e-17</td>\n",
       "      <td>2.283140e-14</td>\n",
       "    </tr>\n",
       "  </tbody>\n",
       "</table>\n",
       "</div>"
      ],
      "text/plain": [
       "           lp__  accept_stat__    stepsize__  treedepth__  n_leapfrog__  \\\n",
       "0 -8.492030e+16            1.0  3.300360e-13          1.0           1.0   \n",
       "1 -8.491680e+16            1.0  3.300360e-13          2.0           3.0   \n",
       "2 -8.491590e+16            1.0  3.300360e-13          1.0           1.0   \n",
       "3 -8.490160e+16            1.0  3.300360e-13          3.0           7.0   \n",
       "4 -8.489800e+16            1.0  3.300360e-13          2.0           3.0   \n",
       "\n",
       "   divergent__      energy__    alpha     theta     lambda[1]     lambda[2]  \\\n",
       "0          0.0  8.492120e+16 -1.22332 -0.021699  8.491390e+16  6.468670e+12   \n",
       "1          0.0  8.492030e+16 -1.22332 -0.021699  8.491030e+16  6.468460e+12   \n",
       "2          0.0  8.491680e+16 -1.22332 -0.021699  8.490940e+16  6.468410e+12   \n",
       "3          0.0  8.491590e+16 -1.22332 -0.021699  8.489510e+16  6.467580e+12   \n",
       "4          0.0  8.490160e+16 -1.22332 -0.021699  8.489160e+16  6.467370e+12   \n",
       "\n",
       "   lambda[3]  lambda[4]  lambda[5]  lambda[6]  lambda[7]  lambda[8]  \\\n",
       "0   911537.0    48.0184   0.034939   0.000302   0.008905   0.000005   \n",
       "1   911522.0    48.0181   0.034939   0.000302   0.008905   0.000005   \n",
       "2   911519.0    48.0180   0.034939   0.000302   0.008905   0.000005   \n",
       "3   911462.0    48.0170   0.034939   0.000302   0.008905   0.000005   \n",
       "4   911448.0    48.0168   0.034939   0.000302   0.008905   0.000005   \n",
       "\n",
       "      lambda[9]    lambda[10]  \n",
       "0  1.933370e-17  2.282690e-14  \n",
       "1  1.933450e-17  2.282760e-14  \n",
       "2  1.933470e-17  2.282780e-14  \n",
       "3  1.933770e-17  2.283070e-14  \n",
       "4  1.933840e-17  2.283140e-14  "
      ]
     },
     "execution_count": 366,
     "metadata": {},
     "output_type": "execute_result"
    }
   ],
   "source": [
    "fit_df = fit.draws_pd()\n",
    "fit_df.head()"
   ]
  },
  {
   "cell_type": "code",
   "execution_count": 360,
   "metadata": {},
   "outputs": [],
   "source": [
    "years = df['Year'].values\n",
    "observed_lambda = df['Fatal accidents'].values\n",
    "sampled_lambdas = fit_df.loc[:, \"lambda[1]\":\"lambda[10]\"]"
   ]
  },
  {
   "cell_type": "code",
   "execution_count": 361,
   "metadata": {},
   "outputs": [
    {
     "data": {
      "image/png": "[encoded data removed]",
      "text/plain": [
       "<Figure size 1296x2160 with 10 Axes>"
      ]
     },
     "metadata": {
      "needs_background": "light"
     },
     "output_type": "display_data"
    }
   ],
   "source": [
    "fig, axes = plt.subplots(int(len(df)/2), 2, figsize=(18, 30))\n",
    "axes = axes.flatten()\n",
    "\n",
    "for i, ax in enumerate(axes):\n",
    "    ax.hist(sampled_lambdas[f'lambda[{i + 1}]'].values, density=True, label='samples')\n",
    "    ax.set_xlabel('lambda')\n",
    "    ax.set_title(f'Year: {years[i]}')\n",
    "    ax.legend()"
   ]
  }
 ],
 "metadata": {
  "kernelspec": {
   "display_name": "Python 3",
   "language": "python",
   "name": "python3"
  },
  "language_info": {
   "codemirror_mode": {
    "name": "ipython",
    "version": 3
   },
   "file_extension": ".py",
   "mimetype": "text/x-python",
   "name": "python",
   "nbconvert_exporter": "python",
   "pygments_lexer": "ipython3",
   "version": "3.9.11"
  },
  "orig_nbformat": 4
 },
 "nbformat": 4,
 "nbformat_minor": 2
}
