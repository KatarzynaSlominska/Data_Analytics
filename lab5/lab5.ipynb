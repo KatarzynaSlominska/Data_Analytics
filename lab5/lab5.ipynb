{
 "cells": [
  {
   "attachments": {},
   "cell_type": "markdown",
   "metadata": {},
   "source": [
    "## Lab 5 - Using link functions to create generalized linear models"
   ]
  },
  {
   "cell_type": "code",
   "execution_count": 1,
   "metadata": {},
   "outputs": [
    {
     "name": "stderr",
     "output_type": "stream",
     "text": [
      "/usr/local/lib/python3.9/site-packages/tqdm/auto.py:22: TqdmWarning: IProgress not found. Please update jupyter and ipywidgets. See https://ipywidgets.readthedocs.io/en/stable/user_install.html\n",
      "  from .autonotebook import tqdm as notebook_tqdm\n"
     ]
    }
   ],
   "source": [
    "import numpy as np\n",
    "import pandas as pd\n",
    "import matplotlib.pyplot as plt\n",
    "from cmdstanpy import CmdStanModel"
   ]
  },
  {
   "cell_type": "code",
   "execution_count": 2,
   "metadata": {},
   "outputs": [
    {
     "data": {
      "text/html": [
       "<div>\n",
       "<style scoped>\n",
       "    .dataframe tbody tr th:only-of-type {\n",
       "        vertical-align: middle;\n",
       "    }\n",
       "\n",
       "    .dataframe tbody tr th {\n",
       "        vertical-align: top;\n",
       "    }\n",
       "\n",
       "    .dataframe thead th {\n",
       "        text-align: right;\n",
       "    }\n",
       "</style>\n",
       "<table border=\"1\" class=\"dataframe\">\n",
       "  <thead>\n",
       "    <tr style=\"text-align: right;\">\n",
       "      <th></th>\n",
       "      <th>Year</th>\n",
       "      <th>Fatal accidents</th>\n",
       "      <th>Passenger deaths</th>\n",
       "      <th>Miles flown [100 mln miles]</th>\n",
       "    </tr>\n",
       "  </thead>\n",
       "  <tbody>\n",
       "    <tr>\n",
       "      <th>0</th>\n",
       "      <td>1976</td>\n",
       "      <td>24</td>\n",
       "      <td>734</td>\n",
       "      <td>3863.0</td>\n",
       "    </tr>\n",
       "    <tr>\n",
       "      <th>1</th>\n",
       "      <td>1977</td>\n",
       "      <td>25</td>\n",
       "      <td>516</td>\n",
       "      <td>4300.0</td>\n",
       "    </tr>\n",
       "    <tr>\n",
       "      <th>2</th>\n",
       "      <td>1978</td>\n",
       "      <td>31</td>\n",
       "      <td>754</td>\n",
       "      <td>5027.0</td>\n",
       "    </tr>\n",
       "    <tr>\n",
       "      <th>3</th>\n",
       "      <td>1979</td>\n",
       "      <td>31</td>\n",
       "      <td>877</td>\n",
       "      <td>5481.0</td>\n",
       "    </tr>\n",
       "    <tr>\n",
       "      <th>4</th>\n",
       "      <td>1980</td>\n",
       "      <td>22</td>\n",
       "      <td>814</td>\n",
       "      <td>5814.0</td>\n",
       "    </tr>\n",
       "    <tr>\n",
       "      <th>5</th>\n",
       "      <td>1981</td>\n",
       "      <td>21</td>\n",
       "      <td>362</td>\n",
       "      <td>6033.0</td>\n",
       "    </tr>\n",
       "    <tr>\n",
       "      <th>6</th>\n",
       "      <td>1982</td>\n",
       "      <td>26</td>\n",
       "      <td>764</td>\n",
       "      <td>5877.0</td>\n",
       "    </tr>\n",
       "    <tr>\n",
       "      <th>7</th>\n",
       "      <td>1983</td>\n",
       "      <td>20</td>\n",
       "      <td>809</td>\n",
       "      <td>6223.0</td>\n",
       "    </tr>\n",
       "    <tr>\n",
       "      <th>8</th>\n",
       "      <td>1984</td>\n",
       "      <td>16</td>\n",
       "      <td>223</td>\n",
       "      <td>7433.0</td>\n",
       "    </tr>\n",
       "    <tr>\n",
       "      <th>9</th>\n",
       "      <td>1985</td>\n",
       "      <td>22</td>\n",
       "      <td>1066</td>\n",
       "      <td>7107.0</td>\n",
       "    </tr>\n",
       "  </tbody>\n",
       "</table>\n",
       "</div>"
      ],
      "text/plain": [
       "   Year  Fatal accidents  Passenger deaths  Miles flown [100 mln miles]\n",
       "0  1976               24               734                       3863.0\n",
       "1  1977               25               516                       4300.0\n",
       "2  1978               31               754                       5027.0\n",
       "3  1979               31               877                       5481.0\n",
       "4  1980               22               814                       5814.0\n",
       "5  1981               21               362                       6033.0\n",
       "6  1982               26               764                       5877.0\n",
       "7  1983               20               809                       6223.0\n",
       "8  1984               16               223                       7433.0\n",
       "9  1985               22              1066                       7107.0"
      ]
     },
     "execution_count": 2,
     "metadata": {},
     "output_type": "execute_result"
    }
   ],
   "source": [
    "df = pd.read_csv('airline_data.csv')\n",
    "df"
   ]
  },
  {
   "cell_type": "code",
   "execution_count": 3,
   "metadata": {},
   "outputs": [
    {
     "data": {
      "text/html": [
       "<div>\n",
       "<style scoped>\n",
       "    .dataframe tbody tr th:only-of-type {\n",
       "        vertical-align: middle;\n",
       "    }\n",
       "\n",
       "    .dataframe tbody tr th {\n",
       "        vertical-align: top;\n",
       "    }\n",
       "\n",
       "    .dataframe thead th {\n",
       "        text-align: right;\n",
       "    }\n",
       "</style>\n",
       "<table border=\"1\" class=\"dataframe\">\n",
       "  <thead>\n",
       "    <tr style=\"text-align: right;\">\n",
       "      <th></th>\n",
       "      <th>Year</th>\n",
       "      <th>Fatal accidents</th>\n",
       "      <th>Passenger deaths</th>\n",
       "      <th>Miles flown [100 mln miles]</th>\n",
       "    </tr>\n",
       "  </thead>\n",
       "  <tbody>\n",
       "    <tr>\n",
       "      <th>count</th>\n",
       "      <td>10.00000</td>\n",
       "      <td>10.000000</td>\n",
       "      <td>10.000000</td>\n",
       "      <td>10.000000</td>\n",
       "    </tr>\n",
       "    <tr>\n",
       "      <th>mean</th>\n",
       "      <td>1980.50000</td>\n",
       "      <td>23.800000</td>\n",
       "      <td>691.900000</td>\n",
       "      <td>5715.800000</td>\n",
       "    </tr>\n",
       "    <tr>\n",
       "      <th>std</th>\n",
       "      <td>3.02765</td>\n",
       "      <td>4.709329</td>\n",
       "      <td>252.389228</td>\n",
       "      <td>1117.767795</td>\n",
       "    </tr>\n",
       "    <tr>\n",
       "      <th>min</th>\n",
       "      <td>1976.00000</td>\n",
       "      <td>16.000000</td>\n",
       "      <td>223.000000</td>\n",
       "      <td>3863.000000</td>\n",
       "    </tr>\n",
       "    <tr>\n",
       "      <th>25%</th>\n",
       "      <td>1978.25000</td>\n",
       "      <td>21.250000</td>\n",
       "      <td>570.500000</td>\n",
       "      <td>5140.500000</td>\n",
       "    </tr>\n",
       "    <tr>\n",
       "      <th>50%</th>\n",
       "      <td>1980.50000</td>\n",
       "      <td>23.000000</td>\n",
       "      <td>759.000000</td>\n",
       "      <td>5845.500000</td>\n",
       "    </tr>\n",
       "    <tr>\n",
       "      <th>75%</th>\n",
       "      <td>1982.75000</td>\n",
       "      <td>25.750000</td>\n",
       "      <td>812.750000</td>\n",
       "      <td>6175.500000</td>\n",
       "    </tr>\n",
       "    <tr>\n",
       "      <th>max</th>\n",
       "      <td>1985.00000</td>\n",
       "      <td>31.000000</td>\n",
       "      <td>1066.000000</td>\n",
       "      <td>7433.000000</td>\n",
       "    </tr>\n",
       "  </tbody>\n",
       "</table>\n",
       "</div>"
      ],
      "text/plain": [
       "             Year  Fatal accidents  Passenger deaths  \\\n",
       "count    10.00000        10.000000         10.000000   \n",
       "mean   1980.50000        23.800000        691.900000   \n",
       "std       3.02765         4.709329        252.389228   \n",
       "min    1976.00000        16.000000        223.000000   \n",
       "25%    1978.25000        21.250000        570.500000   \n",
       "50%    1980.50000        23.000000        759.000000   \n",
       "75%    1982.75000        25.750000        812.750000   \n",
       "max    1985.00000        31.000000       1066.000000   \n",
       "\n",
       "       Miles flown [100 mln miles]  \n",
       "count                    10.000000  \n",
       "mean                   5715.800000  \n",
       "std                    1117.767795  \n",
       "min                    3863.000000  \n",
       "25%                    5140.500000  \n",
       "50%                    5845.500000  \n",
       "75%                    6175.500000  \n",
       "max                    7433.000000  "
      ]
     },
     "execution_count": 3,
     "metadata": {},
     "output_type": "execute_result"
    }
   ],
   "source": [
    "df.describe()"
   ]
  },
  {
   "cell_type": "code",
   "execution_count": 4,
   "metadata": {},
   "outputs": [
    {
     "data": {
      "text/html": [
       "<div>\n",
       "<style scoped>\n",
       "    .dataframe tbody tr th:only-of-type {\n",
       "        vertical-align: middle;\n",
       "    }\n",
       "\n",
       "    .dataframe tbody tr th {\n",
       "        vertical-align: top;\n",
       "    }\n",
       "\n",
       "    .dataframe thead th {\n",
       "        text-align: right;\n",
       "    }\n",
       "</style>\n",
       "<table border=\"1\" class=\"dataframe\">\n",
       "  <thead>\n",
       "    <tr style=\"text-align: right;\">\n",
       "      <th></th>\n",
       "      <th>Year</th>\n",
       "      <th>Fatal accidents</th>\n",
       "      <th>Passenger deaths</th>\n",
       "      <th>Miles flown [100 mln miles]</th>\n",
       "    </tr>\n",
       "  </thead>\n",
       "  <tbody>\n",
       "    <tr>\n",
       "      <th>0</th>\n",
       "      <td>1976</td>\n",
       "      <td>24</td>\n",
       "      <td>734</td>\n",
       "      <td>3.863</td>\n",
       "    </tr>\n",
       "    <tr>\n",
       "      <th>1</th>\n",
       "      <td>1977</td>\n",
       "      <td>25</td>\n",
       "      <td>516</td>\n",
       "      <td>4.300</td>\n",
       "    </tr>\n",
       "    <tr>\n",
       "      <th>2</th>\n",
       "      <td>1978</td>\n",
       "      <td>31</td>\n",
       "      <td>754</td>\n",
       "      <td>5.027</td>\n",
       "    </tr>\n",
       "    <tr>\n",
       "      <th>3</th>\n",
       "      <td>1979</td>\n",
       "      <td>31</td>\n",
       "      <td>877</td>\n",
       "      <td>5.481</td>\n",
       "    </tr>\n",
       "    <tr>\n",
       "      <th>4</th>\n",
       "      <td>1980</td>\n",
       "      <td>22</td>\n",
       "      <td>814</td>\n",
       "      <td>5.814</td>\n",
       "    </tr>\n",
       "    <tr>\n",
       "      <th>5</th>\n",
       "      <td>1981</td>\n",
       "      <td>21</td>\n",
       "      <td>362</td>\n",
       "      <td>6.033</td>\n",
       "    </tr>\n",
       "    <tr>\n",
       "      <th>6</th>\n",
       "      <td>1982</td>\n",
       "      <td>26</td>\n",
       "      <td>764</td>\n",
       "      <td>5.877</td>\n",
       "    </tr>\n",
       "    <tr>\n",
       "      <th>7</th>\n",
       "      <td>1983</td>\n",
       "      <td>20</td>\n",
       "      <td>809</td>\n",
       "      <td>6.223</td>\n",
       "    </tr>\n",
       "    <tr>\n",
       "      <th>8</th>\n",
       "      <td>1984</td>\n",
       "      <td>16</td>\n",
       "      <td>223</td>\n",
       "      <td>7.433</td>\n",
       "    </tr>\n",
       "    <tr>\n",
       "      <th>9</th>\n",
       "      <td>1985</td>\n",
       "      <td>22</td>\n",
       "      <td>1066</td>\n",
       "      <td>7.107</td>\n",
       "    </tr>\n",
       "  </tbody>\n",
       "</table>\n",
       "</div>"
      ],
      "text/plain": [
       "   Year  Fatal accidents  Passenger deaths  Miles flown [100 mln miles]\n",
       "0  1976               24               734                        3.863\n",
       "1  1977               25               516                        4.300\n",
       "2  1978               31               754                        5.027\n",
       "3  1979               31               877                        5.481\n",
       "4  1980               22               814                        5.814\n",
       "5  1981               21               362                        6.033\n",
       "6  1982               26               764                        5.877\n",
       "7  1983               20               809                        6.223\n",
       "8  1984               16               223                        7.433\n",
       "9  1985               22              1066                        7.107"
      ]
     },
     "execution_count": 4,
     "metadata": {},
     "output_type": "execute_result"
    }
   ],
   "source": [
    "df['Miles flown [100 mln miles]'] /= 1000\n",
    "df"
   ]
  },
  {
   "cell_type": "code",
   "execution_count": 5,
   "metadata": {},
   "outputs": [
    {
     "data": {
      "text/plain": [
       "count    1.000000e+01\n",
       "mean     1.776357e-16\n",
       "std      1.117768e+00\n",
       "min     -1.852800e+00\n",
       "25%     -5.753000e-01\n",
       "50%      1.297000e-01\n",
       "75%      4.597000e-01\n",
       "max      1.717200e+00\n",
       "Name: Miles centered, dtype: float64"
      ]
     },
     "execution_count": 5,
     "metadata": {},
     "output_type": "execute_result"
    }
   ],
   "source": [
    "df['Miles centered'] = df['Miles flown [100 mln miles]'] - df['Miles flown [100 mln miles]'].mean()\n",
    "df['Miles centered'].describe()"
   ]
  },
  {
   "cell_type": "code",
   "execution_count": 6,
   "metadata": {},
   "outputs": [
    {
     "name": "stdout",
     "output_type": "stream",
     "text": [
      "theta=0.4508\n",
      "alpha=3.1379\n"
     ]
    }
   ],
   "source": [
    "upper_bound = 50\n",
    "lower_bound = 10\n",
    "\n",
    "n_max = df['Miles centered'].max()\n",
    "n_min = df['Miles centered'].min()\n",
    "\n",
    "theta = (np.log(upper_bound) - np.log(lower_bound)) / (n_max - n_min)\n",
    "alpha = np.log(lower_bound) - theta * n_min\n",
    "\n",
    "print(f\"{theta=:.4f}\\n{alpha=:.4f}\")"
   ]
  },
  {
   "attachments": {},
   "cell_type": "markdown",
   "metadata": {},
   "source": [
    "### Prior predictive distribution"
   ]
  },
  {
   "cell_type": "code",
   "execution_count": 7,
   "metadata": {},
   "outputs": [
    {
     "name": "stderr",
     "output_type": "stream",
     "text": [
      "INFO:cmdstanpy:compiling stan file /home/lab5/code_1.stan to exe file /home/lab5/code_1\n",
      "INFO:cmdstanpy:compiled model executable: /home/lab5/code_1\n"
     ]
    }
   ],
   "source": [
    "model_1 = CmdStanModel(stan_file=\"code_1.stan\")"
   ]
  },
  {
   "cell_type": "code",
   "execution_count": 8,
   "metadata": {},
   "outputs": [
    {
     "name": "stderr",
     "output_type": "stream",
     "text": [
      "INFO:cmdstanpy:CmdStan start processing\n",
      "chain 1 |\u001b[34m██████████\u001b[0m| 00:00 Sampling completed"
     ]
    },
    {
     "name": "stdout",
     "output_type": "stream",
     "text": [
      "                                                                                "
     ]
    },
    {
     "name": "stderr",
     "output_type": "stream",
     "text": [
      "\n",
      "INFO:cmdstanpy:CmdStan done processing.\n"
     ]
    },
    {
     "name": "stdout",
     "output_type": "stream",
     "text": [
      "\n"
     ]
    }
   ],
   "source": [
    "R = 1000\n",
    "sample=model_1.sample(iter_sampling=R,\n",
    "                     iter_warmup=0,\n",
    "                     chains=1,\n",
    "                     fixed_param=True,\n",
    "                     seed=2404,\n",
    "                     refresh=R)"
   ]
  },
  {
   "cell_type": "code",
   "execution_count": 9,
   "metadata": {},
   "outputs": [],
   "source": [
    "accidents = sample.draws_pd().accidents.values"
   ]
  },
  {
   "cell_type": "code",
   "execution_count": 10,
   "metadata": {},
   "outputs": [
    {
     "name": "stderr",
     "output_type": "stream",
     "text": [
      "No artists with labels found to put in legend.  Note that artists whose label start with an underscore are ignored when legend() is called with no argument.\n"
     ]
    },
    {
     "data": {
      "image/png": "[encoded data removed]",
      "text/plain": [
       "<Figure size 432x288 with 1 Axes>"
      ]
     },
     "metadata": {
      "needs_background": "light"
     },
     "output_type": "display_data"
    }
   ],
   "source": [
    "plt.hist(accidents, density=True, bins=100)\n",
    "plt.title('Accidents')\n",
    "plt.xlabel('accidents')\n",
    "plt.legend()\n",
    "plt.show()"
   ]
  },
  {
   "attachments": {},
   "cell_type": "markdown",
   "metadata": {},
   "source": [
    "### Posterior predictive distribution"
   ]
  },
  {
   "cell_type": "code",
   "execution_count": 11,
   "metadata": {},
   "outputs": [
    {
     "name": "stderr",
     "output_type": "stream",
     "text": [
      "INFO:cmdstanpy:found newer exe file, not recompiling\n"
     ]
    }
   ],
   "source": [
    "model_2 = CmdStanModel(stan_file='code_2.stan')"
   ]
  },
  {
   "cell_type": "code",
   "execution_count": 12,
   "metadata": {},
   "outputs": [
    {
     "name": "stderr",
     "output_type": "stream",
     "text": [
      "INFO:cmdstanpy:CmdStan start processing\n",
      "chain 1 |\u001b[33m          \u001b[0m| 00:00 Status\n",
      "\u001b[A\n",
      "\n",
      "chain 1 |\u001b[34m██████████\u001b[0m| 00:00 Sampling completed\n",
      "chain 2 |\u001b[34m██████████\u001b[0m| 00:00 Sampling completed\n",
      "chain 3 |\u001b[34m██████████\u001b[0m| 00:00 Sampling completed\n",
      "chain 4 |\u001b[34m██████████\u001b[0m| 00:00 Sampling completed"
     ]
    },
    {
     "name": "stdout",
     "output_type": "stream",
     "text": [
      "                                                                                                                                                                                                                                                                                                                                "
     ]
    },
    {
     "name": "stderr",
     "output_type": "stream",
     "text": [
      "\n",
      "INFO:cmdstanpy:CmdStan done processing.\n"
     ]
    },
    {
     "name": "stdout",
     "output_type": "stream",
     "text": [
      "\n"
     ]
    }
   ],
   "source": [
    "data_fit = {'N': len(df), 'miles': df['Miles centered'].values, 'accidents': df['Fatal accidents'].values}\n",
    "fit = model_2.sample(data=data_fit, seed=2404)"
   ]
  },
  {
   "cell_type": "code",
   "execution_count": 13,
   "metadata": {},
   "outputs": [
    {
     "data": {
      "text/html": [
       "<div>\n",
       "<style scoped>\n",
       "    .dataframe tbody tr th:only-of-type {\n",
       "        vertical-align: middle;\n",
       "    }\n",
       "\n",
       "    .dataframe tbody tr th {\n",
       "        vertical-align: top;\n",
       "    }\n",
       "\n",
       "    .dataframe thead th {\n",
       "        text-align: right;\n",
       "    }\n",
       "</style>\n",
       "<table border=\"1\" class=\"dataframe\">\n",
       "  <thead>\n",
       "    <tr style=\"text-align: right;\">\n",
       "      <th></th>\n",
       "      <th>lp__</th>\n",
       "      <th>accept_stat__</th>\n",
       "      <th>stepsize__</th>\n",
       "      <th>treedepth__</th>\n",
       "      <th>n_leapfrog__</th>\n",
       "      <th>divergent__</th>\n",
       "      <th>energy__</th>\n",
       "      <th>alpha</th>\n",
       "      <th>theta</th>\n",
       "      <th>lambda[1]</th>\n",
       "      <th>lambda[2]</th>\n",
       "      <th>lambda[3]</th>\n",
       "      <th>lambda[4]</th>\n",
       "      <th>lambda[5]</th>\n",
       "      <th>lambda[6]</th>\n",
       "      <th>lambda[7]</th>\n",
       "      <th>lambda[8]</th>\n",
       "      <th>lambda[9]</th>\n",
       "      <th>lambda[10]</th>\n",
       "    </tr>\n",
       "  </thead>\n",
       "  <tbody>\n",
       "    <tr>\n",
       "      <th>0</th>\n",
       "      <td>510.104</td>\n",
       "      <td>0.864750</td>\n",
       "      <td>0.929307</td>\n",
       "      <td>2.0</td>\n",
       "      <td>3.0</td>\n",
       "      <td>0.0</td>\n",
       "      <td>-510.030</td>\n",
       "      <td>3.28343</td>\n",
       "      <td>-0.056539</td>\n",
       "      <td>29.6123</td>\n",
       "      <td>28.8896</td>\n",
       "      <td>27.7262</td>\n",
       "      <td>27.0235</td>\n",
       "      <td>26.5195</td>\n",
       "      <td>26.1932</td>\n",
       "      <td>26.4252</td>\n",
       "      <td>25.9133</td>\n",
       "      <td>24.1998</td>\n",
       "      <td>24.6500</td>\n",
       "    </tr>\n",
       "    <tr>\n",
       "      <th>1</th>\n",
       "      <td>511.908</td>\n",
       "      <td>0.982219</td>\n",
       "      <td>0.929307</td>\n",
       "      <td>1.0</td>\n",
       "      <td>3.0</td>\n",
       "      <td>0.0</td>\n",
       "      <td>-510.166</td>\n",
       "      <td>3.18809</td>\n",
       "      <td>-0.025842</td>\n",
       "      <td>25.4311</td>\n",
       "      <td>25.1455</td>\n",
       "      <td>24.6775</td>\n",
       "      <td>24.3897</td>\n",
       "      <td>24.1807</td>\n",
       "      <td>24.0442</td>\n",
       "      <td>24.1413</td>\n",
       "      <td>23.9264</td>\n",
       "      <td>23.1899</td>\n",
       "      <td>23.3861</td>\n",
       "    </tr>\n",
       "    <tr>\n",
       "      <th>2</th>\n",
       "      <td>511.370</td>\n",
       "      <td>0.937583</td>\n",
       "      <td>0.929307</td>\n",
       "      <td>2.0</td>\n",
       "      <td>3.0</td>\n",
       "      <td>0.0</td>\n",
       "      <td>-511.348</td>\n",
       "      <td>3.13019</td>\n",
       "      <td>0.028115</td>\n",
       "      <td>21.7172</td>\n",
       "      <td>21.9856</td>\n",
       "      <td>22.4396</td>\n",
       "      <td>22.7279</td>\n",
       "      <td>22.9417</td>\n",
       "      <td>23.0834</td>\n",
       "      <td>22.9824</td>\n",
       "      <td>23.2070</td>\n",
       "      <td>24.0101</td>\n",
       "      <td>23.7910</td>\n",
       "    </tr>\n",
       "    <tr>\n",
       "      <th>3</th>\n",
       "      <td>511.326</td>\n",
       "      <td>0.991654</td>\n",
       "      <td>0.929307</td>\n",
       "      <td>1.0</td>\n",
       "      <td>1.0</td>\n",
       "      <td>0.0</td>\n",
       "      <td>-511.225</td>\n",
       "      <td>3.12732</td>\n",
       "      <td>0.029204</td>\n",
       "      <td>21.6111</td>\n",
       "      <td>21.8887</td>\n",
       "      <td>22.3584</td>\n",
       "      <td>22.6568</td>\n",
       "      <td>22.8782</td>\n",
       "      <td>23.0250</td>\n",
       "      <td>22.9204</td>\n",
       "      <td>23.1531</td>\n",
       "      <td>23.9859</td>\n",
       "      <td>23.7586</td>\n",
       "    </tr>\n",
       "    <tr>\n",
       "      <th>4</th>\n",
       "      <td>509.045</td>\n",
       "      <td>0.785981</td>\n",
       "      <td>0.929307</td>\n",
       "      <td>2.0</td>\n",
       "      <td>3.0</td>\n",
       "      <td>0.0</td>\n",
       "      <td>-508.413</td>\n",
       "      <td>3.31563</td>\n",
       "      <td>0.013295</td>\n",
       "      <td>26.8695</td>\n",
       "      <td>27.0261</td>\n",
       "      <td>27.2886</td>\n",
       "      <td>27.4538</td>\n",
       "      <td>27.5756</td>\n",
       "      <td>27.6560</td>\n",
       "      <td>27.5987</td>\n",
       "      <td>27.7260</td>\n",
       "      <td>28.1756</td>\n",
       "      <td>28.0537</td>\n",
       "    </tr>\n",
       "  </tbody>\n",
       "</table>\n",
       "</div>"
      ],
      "text/plain": [
       "      lp__  accept_stat__  stepsize__  treedepth__  n_leapfrog__  divergent__  \\\n",
       "0  510.104       0.864750    0.929307          2.0           3.0          0.0   \n",
       "1  511.908       0.982219    0.929307          1.0           3.0          0.0   \n",
       "2  511.370       0.937583    0.929307          2.0           3.0          0.0   \n",
       "3  511.326       0.991654    0.929307          1.0           1.0          0.0   \n",
       "4  509.045       0.785981    0.929307          2.0           3.0          0.0   \n",
       "\n",
       "   energy__    alpha     theta  lambda[1]  lambda[2]  lambda[3]  lambda[4]  \\\n",
       "0  -510.030  3.28343 -0.056539    29.6123    28.8896    27.7262    27.0235   \n",
       "1  -510.166  3.18809 -0.025842    25.4311    25.1455    24.6775    24.3897   \n",
       "2  -511.348  3.13019  0.028115    21.7172    21.9856    22.4396    22.7279   \n",
       "3  -511.225  3.12732  0.029204    21.6111    21.8887    22.3584    22.6568   \n",
       "4  -508.413  3.31563  0.013295    26.8695    27.0261    27.2886    27.4538   \n",
       "\n",
       "   lambda[5]  lambda[6]  lambda[7]  lambda[8]  lambda[9]  lambda[10]  \n",
       "0    26.5195    26.1932    26.4252    25.9133    24.1998     24.6500  \n",
       "1    24.1807    24.0442    24.1413    23.9264    23.1899     23.3861  \n",
       "2    22.9417    23.0834    22.9824    23.2070    24.0101     23.7910  \n",
       "3    22.8782    23.0250    22.9204    23.1531    23.9859     23.7586  \n",
       "4    27.5756    27.6560    27.5987    27.7260    28.1756     28.0537  "
      ]
     },
     "execution_count": 13,
     "metadata": {},
     "output_type": "execute_result"
    }
   ],
   "source": [
    "fit_df = fit.draws_pd()\n",
    "fit_df.head()"
   ]
  },
  {
   "cell_type": "code",
   "execution_count": 14,
   "metadata": {},
   "outputs": [],
   "source": [
    "years = df['Year'].values\n",
    "observed_lambda = df['Fatal accidents'].values\n",
    "sampled_lambdas = fit_df.loc[:, \"lambda[1]\":\"lambda[10]\"]"
   ]
  },
  {
   "cell_type": "code",
   "execution_count": 15,
   "metadata": {},
   "outputs": [
    {
     "data": {
      "image/png": "[encoded data removed]",
      "text/plain": [
       "<Figure size 1224x2160 with 10 Axes>"
      ]
     },
     "metadata": {
      "needs_background": "light"
     },
     "output_type": "display_data"
    }
   ],
   "source": [
    "fig, axes = plt.subplots(int(len(df)/2), 2, figsize=(17, 30))\n",
    "axes = axes.flatten()\n",
    "\n",
    "for i, ax in enumerate(axes):\n",
    "    ax.hist(sampled_lambdas[f'lambda[{i + 1}]'].values, density=True, label='samples')\n",
    "    ax.set_xlabel('lambda')\n",
    "    ax.set_title(f'Year: {years[i]}')\n",
    "    ax.legend()"
   ]
  },
  {
   "attachments": {},
   "cell_type": "markdown",
   "metadata": {},
   "source": [
    "### Posterior predictive distribution for each year"
   ]
  },
  {
   "cell_type": "code",
   "execution_count": 16,
   "metadata": {},
   "outputs": [
    {
     "name": "stderr",
     "output_type": "stream",
     "text": [
      "INFO:cmdstanpy:found newer exe file, not recompiling\n"
     ]
    }
   ],
   "source": [
    "model_3 = CmdStanModel(stan_file='code_3.stan')"
   ]
  },
  {
   "cell_type": "code",
   "execution_count": 17,
   "metadata": {},
   "outputs": [
    {
     "name": "stderr",
     "output_type": "stream",
     "text": [
      "INFO:cmdstanpy:CmdStan start processing\n",
      "chain 1 |\u001b[33m          \u001b[0m| 00:00 Status\n",
      "\u001b[A\n",
      "\n",
      "chain 1 |\u001b[34m███████▋  \u001b[0m| 00:00 Iteration: 1400 / 2000 [ 70%]  (Sampling)\n",
      "\u001b[A\n",
      "\n",
      "chain 1 |\u001b[34m██████████\u001b[0m| 00:00 Sampling completed                       \n",
      "chain 2 |\u001b[34m██████████\u001b[0m| 00:00 Sampling completed                       \n",
      "chain 3 |\u001b[34m██████████\u001b[0m| 00:00 Sampling completed                       \n",
      "chain 4 |\u001b[34m██████████\u001b[0m| 00:00 Sampling completed                       "
     ]
    },
    {
     "name": "stdout",
     "output_type": "stream",
     "text": [
      "                                                                                                                                                                                                                                                                                                                                "
     ]
    },
    {
     "name": "stderr",
     "output_type": "stream",
     "text": [
      "\n",
      "INFO:cmdstanpy:CmdStan done processing.\n"
     ]
    },
    {
     "name": "stdout",
     "output_type": "stream",
     "text": [
      "\n"
     ]
    }
   ],
   "source": [
    "fit_2 = model_3.sample(data=data_fit, seed=2404)"
   ]
  },
  {
   "cell_type": "code",
   "execution_count": 18,
   "metadata": {},
   "outputs": [
    {
     "data": {
      "text/html": [
       "<div>\n",
       "<style scoped>\n",
       "    .dataframe tbody tr th:only-of-type {\n",
       "        vertical-align: middle;\n",
       "    }\n",
       "\n",
       "    .dataframe tbody tr th {\n",
       "        vertical-align: top;\n",
       "    }\n",
       "\n",
       "    .dataframe thead th {\n",
       "        text-align: right;\n",
       "    }\n",
       "</style>\n",
       "<table border=\"1\" class=\"dataframe\">\n",
       "  <thead>\n",
       "    <tr style=\"text-align: right;\">\n",
       "      <th></th>\n",
       "      <th>lp__</th>\n",
       "      <th>accept_stat__</th>\n",
       "      <th>stepsize__</th>\n",
       "      <th>treedepth__</th>\n",
       "      <th>n_leapfrog__</th>\n",
       "      <th>divergent__</th>\n",
       "      <th>energy__</th>\n",
       "      <th>alpha[1]</th>\n",
       "      <th>alpha[2]</th>\n",
       "      <th>alpha[3]</th>\n",
       "      <th>...</th>\n",
       "      <th>lambda[1]</th>\n",
       "      <th>lambda[2]</th>\n",
       "      <th>lambda[3]</th>\n",
       "      <th>lambda[4]</th>\n",
       "      <th>lambda[5]</th>\n",
       "      <th>lambda[6]</th>\n",
       "      <th>lambda[7]</th>\n",
       "      <th>lambda[8]</th>\n",
       "      <th>lambda[9]</th>\n",
       "      <th>lambda[10]</th>\n",
       "    </tr>\n",
       "  </thead>\n",
       "  <tbody>\n",
       "    <tr>\n",
       "      <th>0</th>\n",
       "      <td>514.596</td>\n",
       "      <td>0.969325</td>\n",
       "      <td>0.464245</td>\n",
       "      <td>3.0</td>\n",
       "      <td>7.0</td>\n",
       "      <td>0.0</td>\n",
       "      <td>-510.313</td>\n",
       "      <td>3.82000</td>\n",
       "      <td>4.02742</td>\n",
       "      <td>3.80013</td>\n",
       "      <td>...</td>\n",
       "      <td>19.6604</td>\n",
       "      <td>29.5025</td>\n",
       "      <td>32.6984</td>\n",
       "      <td>42.4670</td>\n",
       "      <td>22.1696</td>\n",
       "      <td>20.8403</td>\n",
       "      <td>23.3678</td>\n",
       "      <td>22.7794</td>\n",
       "      <td>18.2079</td>\n",
       "      <td>17.2708</td>\n",
       "    </tr>\n",
       "    <tr>\n",
       "      <th>1</th>\n",
       "      <td>515.109</td>\n",
       "      <td>0.894373</td>\n",
       "      <td>0.464245</td>\n",
       "      <td>3.0</td>\n",
       "      <td>7.0</td>\n",
       "      <td>0.0</td>\n",
       "      <td>-507.848</td>\n",
       "      <td>4.09019</td>\n",
       "      <td>3.60162</td>\n",
       "      <td>3.67456</td>\n",
       "      <td>...</td>\n",
       "      <td>28.3869</td>\n",
       "      <td>20.7573</td>\n",
       "      <td>29.9004</td>\n",
       "      <td>23.7191</td>\n",
       "      <td>17.0984</td>\n",
       "      <td>24.5993</td>\n",
       "      <td>21.1023</td>\n",
       "      <td>20.3242</td>\n",
       "      <td>14.8170</td>\n",
       "      <td>21.7969</td>\n",
       "    </tr>\n",
       "    <tr>\n",
       "      <th>2</th>\n",
       "      <td>516.351</td>\n",
       "      <td>0.947891</td>\n",
       "      <td>0.464245</td>\n",
       "      <td>3.0</td>\n",
       "      <td>7.0</td>\n",
       "      <td>0.0</td>\n",
       "      <td>-511.205</td>\n",
       "      <td>3.67537</td>\n",
       "      <td>3.88476</td>\n",
       "      <td>3.68872</td>\n",
       "      <td>...</td>\n",
       "      <td>19.9635</td>\n",
       "      <td>28.9054</td>\n",
       "      <td>31.0431</td>\n",
       "      <td>32.4333</td>\n",
       "      <td>25.6082</td>\n",
       "      <td>15.7896</td>\n",
       "      <td>26.3618</td>\n",
       "      <td>20.1219</td>\n",
       "      <td>16.7227</td>\n",
       "      <td>21.0999</td>\n",
       "    </tr>\n",
       "    <tr>\n",
       "      <th>3</th>\n",
       "      <td>512.264</td>\n",
       "      <td>0.815728</td>\n",
       "      <td>0.464245</td>\n",
       "      <td>3.0</td>\n",
       "      <td>7.0</td>\n",
       "      <td>0.0</td>\n",
       "      <td>-509.371</td>\n",
       "      <td>4.26303</td>\n",
       "      <td>3.99382</td>\n",
       "      <td>3.28684</td>\n",
       "      <td>...</td>\n",
       "      <td>26.6593</td>\n",
       "      <td>25.6629</td>\n",
       "      <td>18.5887</td>\n",
       "      <td>23.9180</td>\n",
       "      <td>23.5927</td>\n",
       "      <td>18.1364</td>\n",
       "      <td>31.8235</td>\n",
       "      <td>16.9638</td>\n",
       "      <td>20.0089</td>\n",
       "      <td>22.5097</td>\n",
       "    </tr>\n",
       "    <tr>\n",
       "      <th>4</th>\n",
       "      <td>516.686</td>\n",
       "      <td>0.988515</td>\n",
       "      <td>0.464245</td>\n",
       "      <td>3.0</td>\n",
       "      <td>7.0</td>\n",
       "      <td>0.0</td>\n",
       "      <td>-510.116</td>\n",
       "      <td>4.00466</td>\n",
       "      <td>3.89707</td>\n",
       "      <td>3.78688</td>\n",
       "      <td>...</td>\n",
       "      <td>24.9093</td>\n",
       "      <td>26.9462</td>\n",
       "      <td>32.8977</td>\n",
       "      <td>32.1774</td>\n",
       "      <td>25.6524</td>\n",
       "      <td>19.9667</td>\n",
       "      <td>21.7293</td>\n",
       "      <td>22.8164</td>\n",
       "      <td>19.7771</td>\n",
       "      <td>18.6871</td>\n",
       "    </tr>\n",
       "  </tbody>\n",
       "</table>\n",
       "<p>5 rows × 28 columns</p>\n",
       "</div>"
      ],
      "text/plain": [
       "      lp__  accept_stat__  stepsize__  treedepth__  n_leapfrog__  divergent__  \\\n",
       "0  514.596       0.969325    0.464245          3.0           7.0          0.0   \n",
       "1  515.109       0.894373    0.464245          3.0           7.0          0.0   \n",
       "2  516.351       0.947891    0.464245          3.0           7.0          0.0   \n",
       "3  512.264       0.815728    0.464245          3.0           7.0          0.0   \n",
       "4  516.686       0.988515    0.464245          3.0           7.0          0.0   \n",
       "\n",
       "   energy__  alpha[1]  alpha[2]  alpha[3]  ...  lambda[1]  lambda[2]  \\\n",
       "0  -510.313   3.82000   4.02742   3.80013  ...    19.6604    29.5025   \n",
       "1  -507.848   4.09019   3.60162   3.67456  ...    28.3869    20.7573   \n",
       "2  -511.205   3.67537   3.88476   3.68872  ...    19.9635    28.9054   \n",
       "3  -509.371   4.26303   3.99382   3.28684  ...    26.6593    25.6629   \n",
       "4  -510.116   4.00466   3.89707   3.78688  ...    24.9093    26.9462   \n",
       "\n",
       "   lambda[3]  lambda[4]  lambda[5]  lambda[6]  lambda[7]  lambda[8]  \\\n",
       "0    32.6984    42.4670    22.1696    20.8403    23.3678    22.7794   \n",
       "1    29.9004    23.7191    17.0984    24.5993    21.1023    20.3242   \n",
       "2    31.0431    32.4333    25.6082    15.7896    26.3618    20.1219   \n",
       "3    18.5887    23.9180    23.5927    18.1364    31.8235    16.9638   \n",
       "4    32.8977    32.1774    25.6524    19.9667    21.7293    22.8164   \n",
       "\n",
       "   lambda[9]  lambda[10]  \n",
       "0    18.2079     17.2708  \n",
       "1    14.8170     21.7969  \n",
       "2    16.7227     21.0999  \n",
       "3    20.0089     22.5097  \n",
       "4    19.7771     18.6871  \n",
       "\n",
       "[5 rows x 28 columns]"
      ]
     },
     "execution_count": 18,
     "metadata": {},
     "output_type": "execute_result"
    }
   ],
   "source": [
    "fit_2_df = fit_2.draws_pd()\n",
    "fit_2_df.head()"
   ]
  },
  {
   "cell_type": "code",
   "execution_count": 19,
   "metadata": {},
   "outputs": [],
   "source": [
    "years = df['Year'].values\n",
    "observed_lambda = df['Fatal accidents'].values\n",
    "sampled_lambdas = fit_2_df.loc[:, \"lambda[1]\":\"lambda[10]\"]"
   ]
  },
  {
   "cell_type": "code",
   "execution_count": 20,
   "metadata": {},
   "outputs": [
    {
     "data": {
      "image/png": "[encoded data removed]",
      "text/plain": [
       "<Figure size 1296x2160 with 10 Axes>"
      ]
     },
     "metadata": {
      "needs_background": "light"
     },
     "output_type": "display_data"
    }
   ],
   "source": [
    "fig, axes = plt.subplots(int(len(df)/2), 2, figsize=(18, 30))\n",
    "axes = axes.flatten()\n",
    "\n",
    "for i, ax in enumerate(axes):\n",
    "    ax.hist(sampled_lambdas[f'lambda[{i + 1}]'].values, density=True, label='samples')\n",
    "    ax.set_xlabel('lambda')\n",
    "    ax.set_title(f'Year: {years[i]}')\n",
    "    ax.legend()"
   ]
  }
 ],
 "metadata": {
  "kernelspec": {
   "display_name": "Python 3",
   "language": "python",
   "name": "python3"
  },
  "language_info": {
   "codemirror_mode": {
    "name": "ipython",
    "version": 3
   },
   "file_extension": ".py",
   "mimetype": "text/x-python",
   "name": "python",
   "nbconvert_exporter": "python",
   "pygments_lexer": "ipython3",
   "version": "3.9.11"
  },
  "orig_nbformat": 4
 },
 "nbformat": 4,
 "nbformat_minor": 2
}
